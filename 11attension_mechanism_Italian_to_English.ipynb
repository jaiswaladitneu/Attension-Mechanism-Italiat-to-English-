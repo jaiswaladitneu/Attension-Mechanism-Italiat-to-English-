{
  "cells": [
    {
      "cell_type": "markdown",
      "metadata": {
        "id": "5YfnmRCzggsf"
      },
      "source": [
        "# <font color='red'>**Sequence to sequence implementation**</font>"
      ]
    },
    {
      "cell_type": "markdown",
      "metadata": {
        "id": "PvzDWyMug4kU"
      },
      "source": [
        "**There will be some functions that start with the word \"grader\" ex: grader_check_encoder(), grader_check_attention(), grader_onestepdecoder() etc, you should not change those function definition.<br><br>Every Grader function has to return True.**\n",
        "\n",
        "**Note 1:**  There are many blogs on the attention mechanisum which might be misleading you,\n",
        " so do read the references completly and after that only please check the internet.\n",
        " The best things is to read the research papers and try to implement it on your own.\n",
        "\n",
        "**Note 2:** To complete this assignment, the reference that are mentioned will be enough.\n",
        "\n",
        "**Note 3:** If you are starting this assignment, you might have completed minimum of 20 assignment.\n",
        " If  you are still not able to implement this algorithm you might have rushed in the previous assignments\n",
        "with out learning much and didn't spend your time productively."
      ]
    },
    {
      "cell_type": "markdown",
      "metadata": {
        "id": "p0lAtkaUh05_"
      },
      "source": [
        "## Task -1: Simple Encoder and Decoder\n",
        "Implement simple Encoder-Decoder model"
      ]
    },
    {
      "cell_type": "markdown",
      "metadata": {
        "id": "jT6_ImQ5iNP4"
      },
      "source": [
        "1. Download the **Italian** to **English** translation dataset from <a href=\"http://www.manythings.org/anki/ita-eng.zip\">here</a>\n",
        "\n",
        "2. You will find **ita.txt** file in that ZIP,\n",
        "you can read that data using python and preprocess that data this way only:\n",
        "<img src='https://i.imgur.com/z0j79Jf.png'>    \n",
        "    \n",
        "3. You have to implement a simple Encoder and Decoder architecture  \n",
        "\n",
        "4. Use BLEU score as metric to evaluate your model. You can use any loss function you need.\n",
        "\n",
        "5. You have to use Tensorboard to plot the Graph, Scores and histograms of gradients.\n",
        "\n",
        "6.  a. Check the reference notebook <br>\n",
        "    b. <a href=\"https://medium.com/analytics-vidhya/understand-sequence-to-sequence-models-in-a-more-intuitive-way-1d517d8795bb\">Resource 2</a>\n",
        "    \n",
        "\n"
      ]
    },
    {
      "cell_type": "markdown",
      "metadata": {
        "id": "H1wj5gcsiRm_"
      },
      "source": [
        "<font color='blue'>**Load the data**</font>"
      ]
    },
    {
      "cell_type": "code",
      "execution_count": null,
      "metadata": {
        "colab": {
          "base_uri": "https://localhost:8080/"
        },
        "id": "EgdI5fR8fAMg",
        "outputId": "ee93c665-bfa5-487c-ff5c-4ef8935f6254"
      },
      "outputs": [
        {
          "output_type": "stream",
          "name": "stdout",
          "text": [
            "--2024-12-12 01:16:07--  http://www.manythings.org/anki/ita-eng.zip\n",
            "Resolving www.manythings.org (www.manythings.org)... 173.254.30.110\n",
            "Connecting to www.manythings.org (www.manythings.org)|173.254.30.110|:80... connected.\n",
            "HTTP request sent, awaiting response... 200 OK\n",
            "Length: 8326901 (7.9M) [application/zip]\n",
            "Saving to: ‘ita-eng.zip’\n",
            "\n",
            "ita-eng.zip         100%[===================>]   7.94M  22.5MB/s    in 0.4s    \n",
            "\n",
            "2024-12-12 01:16:08 (22.5 MB/s) - ‘ita-eng.zip’ saved [8326901/8326901]\n",
            "\n",
            "Archive:  ita-eng.zip\n",
            "  inflating: ita.txt                 \n",
            "  inflating: _about.txt              \n"
          ]
        }
      ],
      "source": [
        "!wget http://www.manythings.org/anki/ita-eng.zip\n",
        "!unzip ita-eng.zip"
      ]
    },
    {
      "cell_type": "markdown",
      "metadata": {
        "id": "f7V27-_Dnifb"
      },
      "source": [
        "> lets download the glove vectors (\"vectors for english words\"), note that this file will have vectors with 50d, 100d and 300d, you can choose any one of them based on your computing power\n",
        "\n",
        "__ In our assignment we will be passing english text to the decoder, so we will be using these vectors in decoder embedding layer __"
      ]
    },
    {
      "cell_type": "code",
      "execution_count": null,
      "metadata": {
        "colab": {
          "base_uri": "https://localhost:8080/"
        },
        "id": "ze_e1QslmzLW",
        "outputId": "4c5e39f0-b760-4a00-b320-6273949bf777"
      },
      "outputs": [
        {
          "output_type": "stream",
          "name": "stdout",
          "text": [
            "--2024-12-12 01:16:09--  https://www.dropbox.com/s/ddkmtqz01jc024u/glove.6B.100d.txt\n",
            "Resolving www.dropbox.com (www.dropbox.com)... 162.125.1.18, 2620:100:6016:18::a27d:112\n",
            "Connecting to www.dropbox.com (www.dropbox.com)|162.125.1.18|:443... connected.\n",
            "HTTP request sent, awaiting response... 302 Found\n",
            "Location: https://www.dropbox.com/scl/fi/i486ddb1iq7mw0hatm1d7/glove.6B.100d.txt?rlkey=kpcmkp5ipzyagsw101uwcuz2e [following]\n",
            "--2024-12-12 01:16:09--  https://www.dropbox.com/scl/fi/i486ddb1iq7mw0hatm1d7/glove.6B.100d.txt?rlkey=kpcmkp5ipzyagsw101uwcuz2e\n",
            "Reusing existing connection to www.dropbox.com:443.\n",
            "HTTP request sent, awaiting response... 302 Found\n",
            "Location: https://ucac2a85041fe07f26785da8c200.dl.dropboxusercontent.com/cd/0/inline/CgHnTTQ-9l9nYT6f9Na65qJBpfm4m3aVi3Z1mfU9UfUBBNtRdZxt4aAGoGNP4tTr3DvHyeMl-npFgc579eo2JKLuVMJDrkZtv9cHW-T-9ZgpysVtaR2QoBe2T49zQbqJldvVnKtFx9ey3avN-SlhJM6F/file# [following]\n",
            "--2024-12-12 01:16:10--  https://ucac2a85041fe07f26785da8c200.dl.dropboxusercontent.com/cd/0/inline/CgHnTTQ-9l9nYT6f9Na65qJBpfm4m3aVi3Z1mfU9UfUBBNtRdZxt4aAGoGNP4tTr3DvHyeMl-npFgc579eo2JKLuVMJDrkZtv9cHW-T-9ZgpysVtaR2QoBe2T49zQbqJldvVnKtFx9ey3avN-SlhJM6F/file\n",
            "Resolving ucac2a85041fe07f26785da8c200.dl.dropboxusercontent.com (ucac2a85041fe07f26785da8c200.dl.dropboxusercontent.com)... 162.125.1.15, 2620:100:6016:15::a27d:10f\n",
            "Connecting to ucac2a85041fe07f26785da8c200.dl.dropboxusercontent.com (ucac2a85041fe07f26785da8c200.dl.dropboxusercontent.com)|162.125.1.15|:443... connected.\n",
            "HTTP request sent, awaiting response... 200 OK\n",
            "Length: 347116733 (331M) [text/plain]\n",
            "Saving to: ‘glove.6B.100d.txt’\n",
            "\n",
            "glove.6B.100d.txt   100%[===================>] 331.04M   108MB/s    in 3.2s    \n",
            "\n",
            "2024-12-12 01:16:13 (103 MB/s) - ‘glove.6B.100d.txt’ saved [347116733/347116733]\n",
            "\n"
          ]
        }
      ],
      "source": [
        "!wget https://www.dropbox.com/s/ddkmtqz01jc024u/glove.6B.100d.txt"
      ]
    },
    {
      "cell_type": "markdown",
      "metadata": {
        "id": "7SlrwHxppUo7"
      },
      "source": [
        "### <font color='blue'>**Loading data**</font>"
      ]
    },
    {
      "cell_type": "markdown",
      "metadata": {
        "id": "1CTV9b6QpwL-"
      },
      "source": [
        "> if you observe the data file, each feild was seprated by a tab '\\t'"
      ]
    },
    {
      "cell_type": "code",
      "execution_count": null,
      "metadata": {
        "id": "9KhAQJcPobQh"
      },
      "outputs": [],
      "source": [
        "import matplotlib.pyplot as plt\n",
        "%matplotlib inline\n",
        "# import seaborn as sns\n",
        "import pandas as pd\n",
        "import re\n",
        "import tensorflow as tf\n",
        "from tensorflow.keras.layers import Embedding, LSTM, Dense,Dot\n",
        "from tensorflow.keras.models import Model\n",
        "from tensorflow.keras.preprocessing.text import Tokenizer\n",
        "from tensorflow.keras.preprocessing.sequence import pad_sequences\n",
        "import numpy as np"
      ]
    },
    {
      "cell_type": "code",
      "execution_count": null,
      "metadata": {
        "colab": {
          "base_uri": "https://localhost:8080/",
          "height": 224
        },
        "id": "oXuAW01Zp204",
        "outputId": "2e9b836c-3d33-4668-953f-fadc703aede4"
      },
      "outputs": [
        {
          "output_type": "stream",
          "name": "stdout",
          "text": [
            "(377937, 2)\n"
          ]
        },
        {
          "output_type": "execute_result",
          "data": {
            "text/plain": [
              "  english   italian\n",
              "0     Hi.     Ciao!\n",
              "1     Hi.     Ciao.\n",
              "2    Run!    Corri!\n",
              "3    Run!    Corra!\n",
              "4    Run!  Correte!"
            ],
            "text/html": [
              "\n",
              "  <div id=\"df-36ec66fa-9fa1-4231-9d17-7618e53d8554\" class=\"colab-df-container\">\n",
              "    <div>\n",
              "<style scoped>\n",
              "    .dataframe tbody tr th:only-of-type {\n",
              "        vertical-align: middle;\n",
              "    }\n",
              "\n",
              "    .dataframe tbody tr th {\n",
              "        vertical-align: top;\n",
              "    }\n",
              "\n",
              "    .dataframe thead th {\n",
              "        text-align: right;\n",
              "    }\n",
              "</style>\n",
              "<table border=\"1\" class=\"dataframe\">\n",
              "  <thead>\n",
              "    <tr style=\"text-align: right;\">\n",
              "      <th></th>\n",
              "      <th>english</th>\n",
              "      <th>italian</th>\n",
              "    </tr>\n",
              "  </thead>\n",
              "  <tbody>\n",
              "    <tr>\n",
              "      <th>0</th>\n",
              "      <td>Hi.</td>\n",
              "      <td>Ciao!</td>\n",
              "    </tr>\n",
              "    <tr>\n",
              "      <th>1</th>\n",
              "      <td>Hi.</td>\n",
              "      <td>Ciao.</td>\n",
              "    </tr>\n",
              "    <tr>\n",
              "      <th>2</th>\n",
              "      <td>Run!</td>\n",
              "      <td>Corri!</td>\n",
              "    </tr>\n",
              "    <tr>\n",
              "      <th>3</th>\n",
              "      <td>Run!</td>\n",
              "      <td>Corra!</td>\n",
              "    </tr>\n",
              "    <tr>\n",
              "      <th>4</th>\n",
              "      <td>Run!</td>\n",
              "      <td>Correte!</td>\n",
              "    </tr>\n",
              "  </tbody>\n",
              "</table>\n",
              "</div>\n",
              "    <div class=\"colab-df-buttons\">\n",
              "\n",
              "  <div class=\"colab-df-container\">\n",
              "    <button class=\"colab-df-convert\" onclick=\"convertToInteractive('df-36ec66fa-9fa1-4231-9d17-7618e53d8554')\"\n",
              "            title=\"Convert this dataframe to an interactive table.\"\n",
              "            style=\"display:none;\">\n",
              "\n",
              "  <svg xmlns=\"http://www.w3.org/2000/svg\" height=\"24px\" viewBox=\"0 -960 960 960\">\n",
              "    <path d=\"M120-120v-720h720v720H120Zm60-500h600v-160H180v160Zm220 220h160v-160H400v160Zm0 220h160v-160H400v160ZM180-400h160v-160H180v160Zm440 0h160v-160H620v160ZM180-180h160v-160H180v160Zm440 0h160v-160H620v160Z\"/>\n",
              "  </svg>\n",
              "    </button>\n",
              "\n",
              "  <style>\n",
              "    .colab-df-container {\n",
              "      display:flex;\n",
              "      gap: 12px;\n",
              "    }\n",
              "\n",
              "    .colab-df-convert {\n",
              "      background-color: #E8F0FE;\n",
              "      border: none;\n",
              "      border-radius: 50%;\n",
              "      cursor: pointer;\n",
              "      display: none;\n",
              "      fill: #1967D2;\n",
              "      height: 32px;\n",
              "      padding: 0 0 0 0;\n",
              "      width: 32px;\n",
              "    }\n",
              "\n",
              "    .colab-df-convert:hover {\n",
              "      background-color: #E2EBFA;\n",
              "      box-shadow: 0px 1px 2px rgba(60, 64, 67, 0.3), 0px 1px 3px 1px rgba(60, 64, 67, 0.15);\n",
              "      fill: #174EA6;\n",
              "    }\n",
              "\n",
              "    .colab-df-buttons div {\n",
              "      margin-bottom: 4px;\n",
              "    }\n",
              "\n",
              "    [theme=dark] .colab-df-convert {\n",
              "      background-color: #3B4455;\n",
              "      fill: #D2E3FC;\n",
              "    }\n",
              "\n",
              "    [theme=dark] .colab-df-convert:hover {\n",
              "      background-color: #434B5C;\n",
              "      box-shadow: 0px 1px 3px 1px rgba(0, 0, 0, 0.15);\n",
              "      filter: drop-shadow(0px 1px 2px rgba(0, 0, 0, 0.3));\n",
              "      fill: #FFFFFF;\n",
              "    }\n",
              "  </style>\n",
              "\n",
              "    <script>\n",
              "      const buttonEl =\n",
              "        document.querySelector('#df-36ec66fa-9fa1-4231-9d17-7618e53d8554 button.colab-df-convert');\n",
              "      buttonEl.style.display =\n",
              "        google.colab.kernel.accessAllowed ? 'block' : 'none';\n",
              "\n",
              "      async function convertToInteractive(key) {\n",
              "        const element = document.querySelector('#df-36ec66fa-9fa1-4231-9d17-7618e53d8554');\n",
              "        const dataTable =\n",
              "          await google.colab.kernel.invokeFunction('convertToInteractive',\n",
              "                                                    [key], {});\n",
              "        if (!dataTable) return;\n",
              "\n",
              "        const docLinkHtml = 'Like what you see? Visit the ' +\n",
              "          '<a target=\"_blank\" href=https://colab.research.google.com/notebooks/data_table.ipynb>data table notebook</a>'\n",
              "          + ' to learn more about interactive tables.';\n",
              "        element.innerHTML = '';\n",
              "        dataTable['output_type'] = 'display_data';\n",
              "        await google.colab.output.renderOutput(dataTable, element);\n",
              "        const docLink = document.createElement('div');\n",
              "        docLink.innerHTML = docLinkHtml;\n",
              "        element.appendChild(docLink);\n",
              "      }\n",
              "    </script>\n",
              "  </div>\n",
              "\n",
              "\n",
              "<div id=\"df-f075f753-6b2d-42c0-ac71-46afb6dbe66b\">\n",
              "  <button class=\"colab-df-quickchart\" onclick=\"quickchart('df-f075f753-6b2d-42c0-ac71-46afb6dbe66b')\"\n",
              "            title=\"Suggest charts\"\n",
              "            style=\"display:none;\">\n",
              "\n",
              "<svg xmlns=\"http://www.w3.org/2000/svg\" height=\"24px\"viewBox=\"0 0 24 24\"\n",
              "     width=\"24px\">\n",
              "    <g>\n",
              "        <path d=\"M19 3H5c-1.1 0-2 .9-2 2v14c0 1.1.9 2 2 2h14c1.1 0 2-.9 2-2V5c0-1.1-.9-2-2-2zM9 17H7v-7h2v7zm4 0h-2V7h2v10zm4 0h-2v-4h2v4z\"/>\n",
              "    </g>\n",
              "</svg>\n",
              "  </button>\n",
              "\n",
              "<style>\n",
              "  .colab-df-quickchart {\n",
              "      --bg-color: #E8F0FE;\n",
              "      --fill-color: #1967D2;\n",
              "      --hover-bg-color: #E2EBFA;\n",
              "      --hover-fill-color: #174EA6;\n",
              "      --disabled-fill-color: #AAA;\n",
              "      --disabled-bg-color: #DDD;\n",
              "  }\n",
              "\n",
              "  [theme=dark] .colab-df-quickchart {\n",
              "      --bg-color: #3B4455;\n",
              "      --fill-color: #D2E3FC;\n",
              "      --hover-bg-color: #434B5C;\n",
              "      --hover-fill-color: #FFFFFF;\n",
              "      --disabled-bg-color: #3B4455;\n",
              "      --disabled-fill-color: #666;\n",
              "  }\n",
              "\n",
              "  .colab-df-quickchart {\n",
              "    background-color: var(--bg-color);\n",
              "    border: none;\n",
              "    border-radius: 50%;\n",
              "    cursor: pointer;\n",
              "    display: none;\n",
              "    fill: var(--fill-color);\n",
              "    height: 32px;\n",
              "    padding: 0;\n",
              "    width: 32px;\n",
              "  }\n",
              "\n",
              "  .colab-df-quickchart:hover {\n",
              "    background-color: var(--hover-bg-color);\n",
              "    box-shadow: 0 1px 2px rgba(60, 64, 67, 0.3), 0 1px 3px 1px rgba(60, 64, 67, 0.15);\n",
              "    fill: var(--button-hover-fill-color);\n",
              "  }\n",
              "\n",
              "  .colab-df-quickchart-complete:disabled,\n",
              "  .colab-df-quickchart-complete:disabled:hover {\n",
              "    background-color: var(--disabled-bg-color);\n",
              "    fill: var(--disabled-fill-color);\n",
              "    box-shadow: none;\n",
              "  }\n",
              "\n",
              "  .colab-df-spinner {\n",
              "    border: 2px solid var(--fill-color);\n",
              "    border-color: transparent;\n",
              "    border-bottom-color: var(--fill-color);\n",
              "    animation:\n",
              "      spin 1s steps(1) infinite;\n",
              "  }\n",
              "\n",
              "  @keyframes spin {\n",
              "    0% {\n",
              "      border-color: transparent;\n",
              "      border-bottom-color: var(--fill-color);\n",
              "      border-left-color: var(--fill-color);\n",
              "    }\n",
              "    20% {\n",
              "      border-color: transparent;\n",
              "      border-left-color: var(--fill-color);\n",
              "      border-top-color: var(--fill-color);\n",
              "    }\n",
              "    30% {\n",
              "      border-color: transparent;\n",
              "      border-left-color: var(--fill-color);\n",
              "      border-top-color: var(--fill-color);\n",
              "      border-right-color: var(--fill-color);\n",
              "    }\n",
              "    40% {\n",
              "      border-color: transparent;\n",
              "      border-right-color: var(--fill-color);\n",
              "      border-top-color: var(--fill-color);\n",
              "    }\n",
              "    60% {\n",
              "      border-color: transparent;\n",
              "      border-right-color: var(--fill-color);\n",
              "    }\n",
              "    80% {\n",
              "      border-color: transparent;\n",
              "      border-right-color: var(--fill-color);\n",
              "      border-bottom-color: var(--fill-color);\n",
              "    }\n",
              "    90% {\n",
              "      border-color: transparent;\n",
              "      border-bottom-color: var(--fill-color);\n",
              "    }\n",
              "  }\n",
              "</style>\n",
              "\n",
              "  <script>\n",
              "    async function quickchart(key) {\n",
              "      const quickchartButtonEl =\n",
              "        document.querySelector('#' + key + ' button');\n",
              "      quickchartButtonEl.disabled = true;  // To prevent multiple clicks.\n",
              "      quickchartButtonEl.classList.add('colab-df-spinner');\n",
              "      try {\n",
              "        const charts = await google.colab.kernel.invokeFunction(\n",
              "            'suggestCharts', [key], {});\n",
              "      } catch (error) {\n",
              "        console.error('Error during call to suggestCharts:', error);\n",
              "      }\n",
              "      quickchartButtonEl.classList.remove('colab-df-spinner');\n",
              "      quickchartButtonEl.classList.add('colab-df-quickchart-complete');\n",
              "    }\n",
              "    (() => {\n",
              "      let quickchartButtonEl =\n",
              "        document.querySelector('#df-f075f753-6b2d-42c0-ac71-46afb6dbe66b button');\n",
              "      quickchartButtonEl.style.display =\n",
              "        google.colab.kernel.accessAllowed ? 'block' : 'none';\n",
              "    })();\n",
              "  </script>\n",
              "</div>\n",
              "\n",
              "    </div>\n",
              "  </div>\n"
            ],
            "application/vnd.google.colaboratory.intrinsic+json": {
              "type": "dataframe",
              "variable_name": "data"
            }
          },
          "metadata": {},
          "execution_count": 4
        }
      ],
      "source": [
        "with open('ita.txt', 'r', encoding=\"utf8\") as f:\n",
        "    eng=[]\n",
        "    ita=[]\n",
        "    for i in f.readlines():\n",
        "        eng.append(i.split(\"\\t\")[0])\n",
        "        ita.append(i.split(\"\\t\")[1])\n",
        "data = pd.DataFrame(data=list(zip(eng, ita)), columns=['english','italian'])\n",
        "print(data.shape)\n",
        "data.head()"
      ]
    },
    {
      "cell_type": "code",
      "execution_count": null,
      "metadata": {
        "colab": {
          "base_uri": "https://localhost:8080/",
          "height": 206
        },
        "id": "jaXkOTwKqd8r",
        "outputId": "b72d1532-c8d0-403c-853b-b9c965b8d30b"
      },
      "outputs": [
        {
          "output_type": "execute_result",
          "data": {
            "text/plain": [
              "  english  italian\n",
              "0      hi     ciao\n",
              "1      hi     ciao\n",
              "2     run    corri\n",
              "3     run    corra\n",
              "4     run  correte"
            ],
            "text/html": [
              "\n",
              "  <div id=\"df-75a046e6-1e7c-4990-90f8-2d1df9914584\" class=\"colab-df-container\">\n",
              "    <div>\n",
              "<style scoped>\n",
              "    .dataframe tbody tr th:only-of-type {\n",
              "        vertical-align: middle;\n",
              "    }\n",
              "\n",
              "    .dataframe tbody tr th {\n",
              "        vertical-align: top;\n",
              "    }\n",
              "\n",
              "    .dataframe thead th {\n",
              "        text-align: right;\n",
              "    }\n",
              "</style>\n",
              "<table border=\"1\" class=\"dataframe\">\n",
              "  <thead>\n",
              "    <tr style=\"text-align: right;\">\n",
              "      <th></th>\n",
              "      <th>english</th>\n",
              "      <th>italian</th>\n",
              "    </tr>\n",
              "  </thead>\n",
              "  <tbody>\n",
              "    <tr>\n",
              "      <th>0</th>\n",
              "      <td>hi</td>\n",
              "      <td>ciao</td>\n",
              "    </tr>\n",
              "    <tr>\n",
              "      <th>1</th>\n",
              "      <td>hi</td>\n",
              "      <td>ciao</td>\n",
              "    </tr>\n",
              "    <tr>\n",
              "      <th>2</th>\n",
              "      <td>run</td>\n",
              "      <td>corri</td>\n",
              "    </tr>\n",
              "    <tr>\n",
              "      <th>3</th>\n",
              "      <td>run</td>\n",
              "      <td>corra</td>\n",
              "    </tr>\n",
              "    <tr>\n",
              "      <th>4</th>\n",
              "      <td>run</td>\n",
              "      <td>correte</td>\n",
              "    </tr>\n",
              "  </tbody>\n",
              "</table>\n",
              "</div>\n",
              "    <div class=\"colab-df-buttons\">\n",
              "\n",
              "  <div class=\"colab-df-container\">\n",
              "    <button class=\"colab-df-convert\" onclick=\"convertToInteractive('df-75a046e6-1e7c-4990-90f8-2d1df9914584')\"\n",
              "            title=\"Convert this dataframe to an interactive table.\"\n",
              "            style=\"display:none;\">\n",
              "\n",
              "  <svg xmlns=\"http://www.w3.org/2000/svg\" height=\"24px\" viewBox=\"0 -960 960 960\">\n",
              "    <path d=\"M120-120v-720h720v720H120Zm60-500h600v-160H180v160Zm220 220h160v-160H400v160Zm0 220h160v-160H400v160ZM180-400h160v-160H180v160Zm440 0h160v-160H620v160ZM180-180h160v-160H180v160Zm440 0h160v-160H620v160Z\"/>\n",
              "  </svg>\n",
              "    </button>\n",
              "\n",
              "  <style>\n",
              "    .colab-df-container {\n",
              "      display:flex;\n",
              "      gap: 12px;\n",
              "    }\n",
              "\n",
              "    .colab-df-convert {\n",
              "      background-color: #E8F0FE;\n",
              "      border: none;\n",
              "      border-radius: 50%;\n",
              "      cursor: pointer;\n",
              "      display: none;\n",
              "      fill: #1967D2;\n",
              "      height: 32px;\n",
              "      padding: 0 0 0 0;\n",
              "      width: 32px;\n",
              "    }\n",
              "\n",
              "    .colab-df-convert:hover {\n",
              "      background-color: #E2EBFA;\n",
              "      box-shadow: 0px 1px 2px rgba(60, 64, 67, 0.3), 0px 1px 3px 1px rgba(60, 64, 67, 0.15);\n",
              "      fill: #174EA6;\n",
              "    }\n",
              "\n",
              "    .colab-df-buttons div {\n",
              "      margin-bottom: 4px;\n",
              "    }\n",
              "\n",
              "    [theme=dark] .colab-df-convert {\n",
              "      background-color: #3B4455;\n",
              "      fill: #D2E3FC;\n",
              "    }\n",
              "\n",
              "    [theme=dark] .colab-df-convert:hover {\n",
              "      background-color: #434B5C;\n",
              "      box-shadow: 0px 1px 3px 1px rgba(0, 0, 0, 0.15);\n",
              "      filter: drop-shadow(0px 1px 2px rgba(0, 0, 0, 0.3));\n",
              "      fill: #FFFFFF;\n",
              "    }\n",
              "  </style>\n",
              "\n",
              "    <script>\n",
              "      const buttonEl =\n",
              "        document.querySelector('#df-75a046e6-1e7c-4990-90f8-2d1df9914584 button.colab-df-convert');\n",
              "      buttonEl.style.display =\n",
              "        google.colab.kernel.accessAllowed ? 'block' : 'none';\n",
              "\n",
              "      async function convertToInteractive(key) {\n",
              "        const element = document.querySelector('#df-75a046e6-1e7c-4990-90f8-2d1df9914584');\n",
              "        const dataTable =\n",
              "          await google.colab.kernel.invokeFunction('convertToInteractive',\n",
              "                                                    [key], {});\n",
              "        if (!dataTable) return;\n",
              "\n",
              "        const docLinkHtml = 'Like what you see? Visit the ' +\n",
              "          '<a target=\"_blank\" href=https://colab.research.google.com/notebooks/data_table.ipynb>data table notebook</a>'\n",
              "          + ' to learn more about interactive tables.';\n",
              "        element.innerHTML = '';\n",
              "        dataTable['output_type'] = 'display_data';\n",
              "        await google.colab.output.renderOutput(dataTable, element);\n",
              "        const docLink = document.createElement('div');\n",
              "        docLink.innerHTML = docLinkHtml;\n",
              "        element.appendChild(docLink);\n",
              "      }\n",
              "    </script>\n",
              "  </div>\n",
              "\n",
              "\n",
              "<div id=\"df-b2522e0f-34db-460c-9a6f-5532993b1d49\">\n",
              "  <button class=\"colab-df-quickchart\" onclick=\"quickchart('df-b2522e0f-34db-460c-9a6f-5532993b1d49')\"\n",
              "            title=\"Suggest charts\"\n",
              "            style=\"display:none;\">\n",
              "\n",
              "<svg xmlns=\"http://www.w3.org/2000/svg\" height=\"24px\"viewBox=\"0 0 24 24\"\n",
              "     width=\"24px\">\n",
              "    <g>\n",
              "        <path d=\"M19 3H5c-1.1 0-2 .9-2 2v14c0 1.1.9 2 2 2h14c1.1 0 2-.9 2-2V5c0-1.1-.9-2-2-2zM9 17H7v-7h2v7zm4 0h-2V7h2v10zm4 0h-2v-4h2v4z\"/>\n",
              "    </g>\n",
              "</svg>\n",
              "  </button>\n",
              "\n",
              "<style>\n",
              "  .colab-df-quickchart {\n",
              "      --bg-color: #E8F0FE;\n",
              "      --fill-color: #1967D2;\n",
              "      --hover-bg-color: #E2EBFA;\n",
              "      --hover-fill-color: #174EA6;\n",
              "      --disabled-fill-color: #AAA;\n",
              "      --disabled-bg-color: #DDD;\n",
              "  }\n",
              "\n",
              "  [theme=dark] .colab-df-quickchart {\n",
              "      --bg-color: #3B4455;\n",
              "      --fill-color: #D2E3FC;\n",
              "      --hover-bg-color: #434B5C;\n",
              "      --hover-fill-color: #FFFFFF;\n",
              "      --disabled-bg-color: #3B4455;\n",
              "      --disabled-fill-color: #666;\n",
              "  }\n",
              "\n",
              "  .colab-df-quickchart {\n",
              "    background-color: var(--bg-color);\n",
              "    border: none;\n",
              "    border-radius: 50%;\n",
              "    cursor: pointer;\n",
              "    display: none;\n",
              "    fill: var(--fill-color);\n",
              "    height: 32px;\n",
              "    padding: 0;\n",
              "    width: 32px;\n",
              "  }\n",
              "\n",
              "  .colab-df-quickchart:hover {\n",
              "    background-color: var(--hover-bg-color);\n",
              "    box-shadow: 0 1px 2px rgba(60, 64, 67, 0.3), 0 1px 3px 1px rgba(60, 64, 67, 0.15);\n",
              "    fill: var(--button-hover-fill-color);\n",
              "  }\n",
              "\n",
              "  .colab-df-quickchart-complete:disabled,\n",
              "  .colab-df-quickchart-complete:disabled:hover {\n",
              "    background-color: var(--disabled-bg-color);\n",
              "    fill: var(--disabled-fill-color);\n",
              "    box-shadow: none;\n",
              "  }\n",
              "\n",
              "  .colab-df-spinner {\n",
              "    border: 2px solid var(--fill-color);\n",
              "    border-color: transparent;\n",
              "    border-bottom-color: var(--fill-color);\n",
              "    animation:\n",
              "      spin 1s steps(1) infinite;\n",
              "  }\n",
              "\n",
              "  @keyframes spin {\n",
              "    0% {\n",
              "      border-color: transparent;\n",
              "      border-bottom-color: var(--fill-color);\n",
              "      border-left-color: var(--fill-color);\n",
              "    }\n",
              "    20% {\n",
              "      border-color: transparent;\n",
              "      border-left-color: var(--fill-color);\n",
              "      border-top-color: var(--fill-color);\n",
              "    }\n",
              "    30% {\n",
              "      border-color: transparent;\n",
              "      border-left-color: var(--fill-color);\n",
              "      border-top-color: var(--fill-color);\n",
              "      border-right-color: var(--fill-color);\n",
              "    }\n",
              "    40% {\n",
              "      border-color: transparent;\n",
              "      border-right-color: var(--fill-color);\n",
              "      border-top-color: var(--fill-color);\n",
              "    }\n",
              "    60% {\n",
              "      border-color: transparent;\n",
              "      border-right-color: var(--fill-color);\n",
              "    }\n",
              "    80% {\n",
              "      border-color: transparent;\n",
              "      border-right-color: var(--fill-color);\n",
              "      border-bottom-color: var(--fill-color);\n",
              "    }\n",
              "    90% {\n",
              "      border-color: transparent;\n",
              "      border-bottom-color: var(--fill-color);\n",
              "    }\n",
              "  }\n",
              "</style>\n",
              "\n",
              "  <script>\n",
              "    async function quickchart(key) {\n",
              "      const quickchartButtonEl =\n",
              "        document.querySelector('#' + key + ' button');\n",
              "      quickchartButtonEl.disabled = true;  // To prevent multiple clicks.\n",
              "      quickchartButtonEl.classList.add('colab-df-spinner');\n",
              "      try {\n",
              "        const charts = await google.colab.kernel.invokeFunction(\n",
              "            'suggestCharts', [key], {});\n",
              "      } catch (error) {\n",
              "        console.error('Error during call to suggestCharts:', error);\n",
              "      }\n",
              "      quickchartButtonEl.classList.remove('colab-df-spinner');\n",
              "      quickchartButtonEl.classList.add('colab-df-quickchart-complete');\n",
              "    }\n",
              "    (() => {\n",
              "      let quickchartButtonEl =\n",
              "        document.querySelector('#df-b2522e0f-34db-460c-9a6f-5532993b1d49 button');\n",
              "      quickchartButtonEl.style.display =\n",
              "        google.colab.kernel.accessAllowed ? 'block' : 'none';\n",
              "    })();\n",
              "  </script>\n",
              "</div>\n",
              "\n",
              "    </div>\n",
              "  </div>\n"
            ],
            "application/vnd.google.colaboratory.intrinsic+json": {
              "type": "dataframe",
              "variable_name": "data"
            }
          },
          "metadata": {},
          "execution_count": 5
        }
      ],
      "source": [
        "def decontractions(phrase):\n",
        "    \"\"\"decontracted takes text and convert contractions into natural form.\n",
        "     ref: https://stackoverflow.com/questions/19790188/expanding-english-language-contractions-in-python/47091490#47091490\"\"\"\n",
        "    # specific\n",
        "    phrase = re.sub(r\"won\\'t\", \"will not\", phrase)\n",
        "    phrase = re.sub(r\"can\\'t\", \"can not\", phrase)\n",
        "    phrase = re.sub(r\"won\\’t\", \"will not\", phrase)\n",
        "    phrase = re.sub(r\"can\\’t\", \"can not\", phrase)\n",
        "\n",
        "    # general\n",
        "    phrase = re.sub(r\"n\\'t\", \" not\", phrase)\n",
        "    phrase = re.sub(r\"\\'re\", \" are\", phrase)\n",
        "    phrase = re.sub(r\"\\'s\", \" is\", phrase)\n",
        "    phrase = re.sub(r\"\\'d\", \" would\", phrase)\n",
        "    phrase = re.sub(r\"\\'ll\", \" will\", phrase)\n",
        "    phrase = re.sub(r\"\\'t\", \" not\", phrase)\n",
        "    phrase = re.sub(r\"\\'ve\", \" have\", phrase)\n",
        "    phrase = re.sub(r\"\\'m\", \" am\", phrase)\n",
        "\n",
        "    phrase = re.sub(r\"n\\’t\", \" not\", phrase)\n",
        "    phrase = re.sub(r\"\\’re\", \" are\", phrase)\n",
        "    phrase = re.sub(r\"\\’s\", \" is\", phrase)\n",
        "    phrase = re.sub(r\"\\’d\", \" would\", phrase)\n",
        "    phrase = re.sub(r\"\\’ll\", \" will\", phrase)\n",
        "    phrase = re.sub(r\"\\’t\", \" not\", phrase)\n",
        "    phrase = re.sub(r\"\\’ve\", \" have\", phrase)\n",
        "    phrase = re.sub(r\"\\’m\", \" am\", phrase)\n",
        "\n",
        "    return phrase\n",
        "\n",
        "def preprocess(text):\n",
        "    # convert all the text into lower letters\n",
        "    # use this function to remove the contractions: https://gist.github.com/anandborad/d410a49a493b56dace4f814ab5325bbd\n",
        "    # remove all the spacial characters: except space ' '\n",
        "    text = text.lower()\n",
        "    text = decontractions(text)\n",
        "    text = re.sub('[^A-Za-z0-9 ]+', '', text)\n",
        "    return text\n",
        "\n",
        "def preprocess_ita(text):\n",
        "    # convert all the text into lower letters\n",
        "    # remove the words betweent brakets ()\n",
        "    # remove these characters: {'$', ')', '?', '\"', '’', '.',  '°', '!', ';', '/', \"'\", '€', '%', ':', ',', '('}\n",
        "    # replace these spl characters with space: '\\u200b', '\\xa0', '-', '/'\n",
        "    # we have found these characters after observing the data points, feel free to explore more and see if you can do find more\n",
        "    # you are free to do more proprocessing\n",
        "    # note that the model will learn better with better preprocessed data\n",
        "\n",
        "    text = text.lower()\n",
        "    text = decontractions(text)\n",
        "    text = re.sub('[$)\\?\"’.°!;\\'€%:,(/]', '', text)\n",
        "    text = re.sub('\\u200b', ' ', text)\n",
        "    text = re.sub('\\xa0', ' ', text)\n",
        "    text = re.sub('-', ' ', text)\n",
        "    return text\n",
        "\n",
        "\n",
        "data['english'] = data['english'].apply(preprocess)\n",
        "data['italian'] = data['italian'].apply(preprocess_ita)\n",
        "data.head()"
      ]
    },
    {
      "cell_type": "code",
      "execution_count": null,
      "metadata": {
        "id": "rtL8gfqBr17R"
      },
      "outputs": [],
      "source": [
        "ita_lengths = data['italian'].str.split().apply(len)\n",
        "eng_lengths = data['english'].str.split().apply(len)"
      ]
    },
    {
      "cell_type": "code",
      "execution_count": null,
      "metadata": {
        "colab": {
          "base_uri": "https://localhost:8080/"
        },
        "id": "IrJpbAlMVYOT",
        "outputId": "b075d3a1-f068-464f-92fc-513082af8943"
      },
      "outputs": [
        {
          "output_type": "stream",
          "name": "stdout",
          "text": [
            "0 1.0\n",
            "10 3.0\n",
            "20 4.0\n",
            "30 4.0\n",
            "40 5.0\n",
            "50 5.0\n",
            "60 6.0\n",
            "70 6.0\n",
            "80 7.0\n",
            "90 8.0\n",
            "100 92.0\n",
            "90 8.0\n",
            "91 8.0\n",
            "92 8.0\n",
            "93 9.0\n",
            "94 9.0\n",
            "95 9.0\n",
            "96 9.0\n",
            "97 10.0\n",
            "98 11.0\n",
            "99 12.0\n",
            "100 92.0\n",
            "99.1 12.0\n",
            "99.2 12.0\n",
            "99.3 12.0\n",
            "99.4 13.0\n",
            "99.5 13.0\n",
            "99.6 14.0\n",
            "99.7 15.0\n",
            "99.8 16.0\n",
            "99.9 22.0\n",
            "100 92.0\n"
          ]
        }
      ],
      "source": [
        "for i in range(0,101,10):\n",
        "    print(i,np.percentile(ita_lengths, i))\n",
        "for i in range(90,101):\n",
        "    print(i,np.percentile(ita_lengths, i))\n",
        "for i in [99.1,99.2,99.3,99.4,99.5,99.6,99.7,99.8,99.9,100]:\n",
        "    print(i,np.percentile(ita_lengths, i))"
      ]
    },
    {
      "cell_type": "code",
      "execution_count": null,
      "metadata": {
        "colab": {
          "base_uri": "https://localhost:8080/"
        },
        "id": "zNU4W7fVViRo",
        "outputId": "c25d00b1-64b2-4ede-d58c-c8539be1e4b1"
      },
      "outputs": [
        {
          "output_type": "stream",
          "name": "stdout",
          "text": [
            "0 1.0\n",
            "10 4.0\n",
            "20 4.0\n",
            "30 5.0\n",
            "40 5.0\n",
            "50 6.0\n",
            "60 6.0\n",
            "70 7.0\n",
            "80 7.0\n",
            "90 8.0\n",
            "100 101.0\n",
            "90 8.0\n",
            "91 8.0\n",
            "92 9.0\n",
            "93 9.0\n",
            "94 9.0\n",
            "95 9.0\n",
            "96 10.0\n",
            "97 10.0\n",
            "98 11.0\n",
            "99 12.0\n",
            "100 101.0\n",
            "99.1 12.0\n",
            "99.2 13.0\n",
            "99.3 13.0\n",
            "99.4 13.0\n",
            "99.5 14.0\n",
            "99.6 14.0\n",
            "99.7 15.0\n",
            "99.8 16.0\n",
            "99.9 25.0\n",
            "100 101.0\n"
          ]
        }
      ],
      "source": [
        "for i in range(0,101,10):\n",
        "    print(i,np.percentile(eng_lengths, i))\n",
        "for i in range(90,101):\n",
        "    print(i,np.percentile(eng_lengths, i))\n",
        "for i in [99.1,99.2,99.3,99.4,99.5,99.6,99.7,99.8,99.9,100]:\n",
        "    print(i,np.percentile(eng_lengths, i))"
      ]
    },
    {
      "cell_type": "markdown",
      "metadata": {
        "id": "96a345gQV464"
      },
      "source": [
        "> <font color=\"blue\"><b>If you observe the values, 99.9% of the data points are having length &lt; 20, so select the sentences that have words &lt; 20 </b> </font>\n",
        "<br>\n",
        "<br>\n",
        "> <font color=\"green\"><b>Inorder to do the teacher forcing while training of seq-seq models, lets create two new columns, one with  &lt;start&gt; token at begining of the sentence and other column with &lt;end&gt; token at the end of the sequence</b></font>"
      ]
    },
    {
      "cell_type": "code",
      "execution_count": null,
      "metadata": {
        "colab": {
          "base_uri": "https://localhost:8080/",
          "height": 206
        },
        "id": "717rAEOUVxU8",
        "outputId": "96ac50c5-ccd2-4267-9275-427dd9a90877"
      },
      "outputs": [
        {
          "output_type": "execute_result",
          "data": {
            "text/plain": [
              "   italian  english_inp english_out\n",
              "0     ciao   <start> hi    hi <end>\n",
              "1     ciao   <start> hi    hi <end>\n",
              "2    corri  <start> run   run <end>\n",
              "3    corra  <start> run   run <end>\n",
              "4  correte  <start> run   run <end>"
            ],
            "text/html": [
              "\n",
              "  <div id=\"df-84246ebe-1a2d-4403-a619-7d5f2489dd8e\" class=\"colab-df-container\">\n",
              "    <div>\n",
              "<style scoped>\n",
              "    .dataframe tbody tr th:only-of-type {\n",
              "        vertical-align: middle;\n",
              "    }\n",
              "\n",
              "    .dataframe tbody tr th {\n",
              "        vertical-align: top;\n",
              "    }\n",
              "\n",
              "    .dataframe thead th {\n",
              "        text-align: right;\n",
              "    }\n",
              "</style>\n",
              "<table border=\"1\" class=\"dataframe\">\n",
              "  <thead>\n",
              "    <tr style=\"text-align: right;\">\n",
              "      <th></th>\n",
              "      <th>italian</th>\n",
              "      <th>english_inp</th>\n",
              "      <th>english_out</th>\n",
              "    </tr>\n",
              "  </thead>\n",
              "  <tbody>\n",
              "    <tr>\n",
              "      <th>0</th>\n",
              "      <td>ciao</td>\n",
              "      <td>&lt;start&gt; hi</td>\n",
              "      <td>hi &lt;end&gt;</td>\n",
              "    </tr>\n",
              "    <tr>\n",
              "      <th>1</th>\n",
              "      <td>ciao</td>\n",
              "      <td>&lt;start&gt; hi</td>\n",
              "      <td>hi &lt;end&gt;</td>\n",
              "    </tr>\n",
              "    <tr>\n",
              "      <th>2</th>\n",
              "      <td>corri</td>\n",
              "      <td>&lt;start&gt; run</td>\n",
              "      <td>run &lt;end&gt;</td>\n",
              "    </tr>\n",
              "    <tr>\n",
              "      <th>3</th>\n",
              "      <td>corra</td>\n",
              "      <td>&lt;start&gt; run</td>\n",
              "      <td>run &lt;end&gt;</td>\n",
              "    </tr>\n",
              "    <tr>\n",
              "      <th>4</th>\n",
              "      <td>correte</td>\n",
              "      <td>&lt;start&gt; run</td>\n",
              "      <td>run &lt;end&gt;</td>\n",
              "    </tr>\n",
              "  </tbody>\n",
              "</table>\n",
              "</div>\n",
              "    <div class=\"colab-df-buttons\">\n",
              "\n",
              "  <div class=\"colab-df-container\">\n",
              "    <button class=\"colab-df-convert\" onclick=\"convertToInteractive('df-84246ebe-1a2d-4403-a619-7d5f2489dd8e')\"\n",
              "            title=\"Convert this dataframe to an interactive table.\"\n",
              "            style=\"display:none;\">\n",
              "\n",
              "  <svg xmlns=\"http://www.w3.org/2000/svg\" height=\"24px\" viewBox=\"0 -960 960 960\">\n",
              "    <path d=\"M120-120v-720h720v720H120Zm60-500h600v-160H180v160Zm220 220h160v-160H400v160Zm0 220h160v-160H400v160ZM180-400h160v-160H180v160Zm440 0h160v-160H620v160ZM180-180h160v-160H180v160Zm440 0h160v-160H620v160Z\"/>\n",
              "  </svg>\n",
              "    </button>\n",
              "\n",
              "  <style>\n",
              "    .colab-df-container {\n",
              "      display:flex;\n",
              "      gap: 12px;\n",
              "    }\n",
              "\n",
              "    .colab-df-convert {\n",
              "      background-color: #E8F0FE;\n",
              "      border: none;\n",
              "      border-radius: 50%;\n",
              "      cursor: pointer;\n",
              "      display: none;\n",
              "      fill: #1967D2;\n",
              "      height: 32px;\n",
              "      padding: 0 0 0 0;\n",
              "      width: 32px;\n",
              "    }\n",
              "\n",
              "    .colab-df-convert:hover {\n",
              "      background-color: #E2EBFA;\n",
              "      box-shadow: 0px 1px 2px rgba(60, 64, 67, 0.3), 0px 1px 3px 1px rgba(60, 64, 67, 0.15);\n",
              "      fill: #174EA6;\n",
              "    }\n",
              "\n",
              "    .colab-df-buttons div {\n",
              "      margin-bottom: 4px;\n",
              "    }\n",
              "\n",
              "    [theme=dark] .colab-df-convert {\n",
              "      background-color: #3B4455;\n",
              "      fill: #D2E3FC;\n",
              "    }\n",
              "\n",
              "    [theme=dark] .colab-df-convert:hover {\n",
              "      background-color: #434B5C;\n",
              "      box-shadow: 0px 1px 3px 1px rgba(0, 0, 0, 0.15);\n",
              "      filter: drop-shadow(0px 1px 2px rgba(0, 0, 0, 0.3));\n",
              "      fill: #FFFFFF;\n",
              "    }\n",
              "  </style>\n",
              "\n",
              "    <script>\n",
              "      const buttonEl =\n",
              "        document.querySelector('#df-84246ebe-1a2d-4403-a619-7d5f2489dd8e button.colab-df-convert');\n",
              "      buttonEl.style.display =\n",
              "        google.colab.kernel.accessAllowed ? 'block' : 'none';\n",
              "\n",
              "      async function convertToInteractive(key) {\n",
              "        const element = document.querySelector('#df-84246ebe-1a2d-4403-a619-7d5f2489dd8e');\n",
              "        const dataTable =\n",
              "          await google.colab.kernel.invokeFunction('convertToInteractive',\n",
              "                                                    [key], {});\n",
              "        if (!dataTable) return;\n",
              "\n",
              "        const docLinkHtml = 'Like what you see? Visit the ' +\n",
              "          '<a target=\"_blank\" href=https://colab.research.google.com/notebooks/data_table.ipynb>data table notebook</a>'\n",
              "          + ' to learn more about interactive tables.';\n",
              "        element.innerHTML = '';\n",
              "        dataTable['output_type'] = 'display_data';\n",
              "        await google.colab.output.renderOutput(dataTable, element);\n",
              "        const docLink = document.createElement('div');\n",
              "        docLink.innerHTML = docLinkHtml;\n",
              "        element.appendChild(docLink);\n",
              "      }\n",
              "    </script>\n",
              "  </div>\n",
              "\n",
              "\n",
              "<div id=\"df-bd208b77-d631-43d6-93cf-3f5300ca672e\">\n",
              "  <button class=\"colab-df-quickchart\" onclick=\"quickchart('df-bd208b77-d631-43d6-93cf-3f5300ca672e')\"\n",
              "            title=\"Suggest charts\"\n",
              "            style=\"display:none;\">\n",
              "\n",
              "<svg xmlns=\"http://www.w3.org/2000/svg\" height=\"24px\"viewBox=\"0 0 24 24\"\n",
              "     width=\"24px\">\n",
              "    <g>\n",
              "        <path d=\"M19 3H5c-1.1 0-2 .9-2 2v14c0 1.1.9 2 2 2h14c1.1 0 2-.9 2-2V5c0-1.1-.9-2-2-2zM9 17H7v-7h2v7zm4 0h-2V7h2v10zm4 0h-2v-4h2v4z\"/>\n",
              "    </g>\n",
              "</svg>\n",
              "  </button>\n",
              "\n",
              "<style>\n",
              "  .colab-df-quickchart {\n",
              "      --bg-color: #E8F0FE;\n",
              "      --fill-color: #1967D2;\n",
              "      --hover-bg-color: #E2EBFA;\n",
              "      --hover-fill-color: #174EA6;\n",
              "      --disabled-fill-color: #AAA;\n",
              "      --disabled-bg-color: #DDD;\n",
              "  }\n",
              "\n",
              "  [theme=dark] .colab-df-quickchart {\n",
              "      --bg-color: #3B4455;\n",
              "      --fill-color: #D2E3FC;\n",
              "      --hover-bg-color: #434B5C;\n",
              "      --hover-fill-color: #FFFFFF;\n",
              "      --disabled-bg-color: #3B4455;\n",
              "      --disabled-fill-color: #666;\n",
              "  }\n",
              "\n",
              "  .colab-df-quickchart {\n",
              "    background-color: var(--bg-color);\n",
              "    border: none;\n",
              "    border-radius: 50%;\n",
              "    cursor: pointer;\n",
              "    display: none;\n",
              "    fill: var(--fill-color);\n",
              "    height: 32px;\n",
              "    padding: 0;\n",
              "    width: 32px;\n",
              "  }\n",
              "\n",
              "  .colab-df-quickchart:hover {\n",
              "    background-color: var(--hover-bg-color);\n",
              "    box-shadow: 0 1px 2px rgba(60, 64, 67, 0.3), 0 1px 3px 1px rgba(60, 64, 67, 0.15);\n",
              "    fill: var(--button-hover-fill-color);\n",
              "  }\n",
              "\n",
              "  .colab-df-quickchart-complete:disabled,\n",
              "  .colab-df-quickchart-complete:disabled:hover {\n",
              "    background-color: var(--disabled-bg-color);\n",
              "    fill: var(--disabled-fill-color);\n",
              "    box-shadow: none;\n",
              "  }\n",
              "\n",
              "  .colab-df-spinner {\n",
              "    border: 2px solid var(--fill-color);\n",
              "    border-color: transparent;\n",
              "    border-bottom-color: var(--fill-color);\n",
              "    animation:\n",
              "      spin 1s steps(1) infinite;\n",
              "  }\n",
              "\n",
              "  @keyframes spin {\n",
              "    0% {\n",
              "      border-color: transparent;\n",
              "      border-bottom-color: var(--fill-color);\n",
              "      border-left-color: var(--fill-color);\n",
              "    }\n",
              "    20% {\n",
              "      border-color: transparent;\n",
              "      border-left-color: var(--fill-color);\n",
              "      border-top-color: var(--fill-color);\n",
              "    }\n",
              "    30% {\n",
              "      border-color: transparent;\n",
              "      border-left-color: var(--fill-color);\n",
              "      border-top-color: var(--fill-color);\n",
              "      border-right-color: var(--fill-color);\n",
              "    }\n",
              "    40% {\n",
              "      border-color: transparent;\n",
              "      border-right-color: var(--fill-color);\n",
              "      border-top-color: var(--fill-color);\n",
              "    }\n",
              "    60% {\n",
              "      border-color: transparent;\n",
              "      border-right-color: var(--fill-color);\n",
              "    }\n",
              "    80% {\n",
              "      border-color: transparent;\n",
              "      border-right-color: var(--fill-color);\n",
              "      border-bottom-color: var(--fill-color);\n",
              "    }\n",
              "    90% {\n",
              "      border-color: transparent;\n",
              "      border-bottom-color: var(--fill-color);\n",
              "    }\n",
              "  }\n",
              "</style>\n",
              "\n",
              "  <script>\n",
              "    async function quickchart(key) {\n",
              "      const quickchartButtonEl =\n",
              "        document.querySelector('#' + key + ' button');\n",
              "      quickchartButtonEl.disabled = true;  // To prevent multiple clicks.\n",
              "      quickchartButtonEl.classList.add('colab-df-spinner');\n",
              "      try {\n",
              "        const charts = await google.colab.kernel.invokeFunction(\n",
              "            'suggestCharts', [key], {});\n",
              "      } catch (error) {\n",
              "        console.error('Error during call to suggestCharts:', error);\n",
              "      }\n",
              "      quickchartButtonEl.classList.remove('colab-df-spinner');\n",
              "      quickchartButtonEl.classList.add('colab-df-quickchart-complete');\n",
              "    }\n",
              "    (() => {\n",
              "      let quickchartButtonEl =\n",
              "        document.querySelector('#df-bd208b77-d631-43d6-93cf-3f5300ca672e button');\n",
              "      quickchartButtonEl.style.display =\n",
              "        google.colab.kernel.accessAllowed ? 'block' : 'none';\n",
              "    })();\n",
              "  </script>\n",
              "</div>\n",
              "\n",
              "    </div>\n",
              "  </div>\n"
            ],
            "application/vnd.google.colaboratory.intrinsic+json": {
              "type": "dataframe",
              "variable_name": "data"
            }
          },
          "metadata": {},
          "execution_count": 9
        }
      ],
      "source": [
        "data['italian_len'] = data['italian'].str.split().apply(len)\n",
        "data = data[data['italian_len'] < 20]\n",
        "\n",
        "data['english_len'] = data['english'].str.split().apply(len)\n",
        "data = data[data['english_len'] < 20]\n",
        "\n",
        "data['english_inp'] = '<start> ' + data['english'].astype(str)\n",
        "data['english_out'] = data['english'].astype(str) + ' <end>'\n",
        "\n",
        "data = data.drop(['english','italian_len','english_len'], axis=1)\n",
        "# only for the first sentance add a toke <end> so that we will have <end> in tokenizer\n",
        "data.head()"
      ]
    },
    {
      "cell_type": "code",
      "execution_count": null,
      "metadata": {
        "colab": {
          "base_uri": "https://localhost:8080/",
          "height": 363
        },
        "id": "Yu1AcdXpV-aQ",
        "outputId": "d0721593-74ef-4f61-e4bc-9294036fd848"
      },
      "outputs": [
        {
          "output_type": "execute_result",
          "data": {
            "text/plain": [
              "                                         italian  \\\n",
              "191529             siamo uscite per la colazione   \n",
              "348233            è un po più complicata di così   \n",
              "183542     io sono stato ferito da molte persone   \n",
              "177500                 lei è la nuova assistente   \n",
              "243784         lei non sarebbe dovuto venire qui   \n",
              "99938                ci è voluta solamente unora   \n",
              "347839  gli chiederò dovè andato domenica scorsa   \n",
              "213935                  hai fatto i tuoi compiti   \n",
              "249065    pensavo che tom potesse conoscere mary   \n",
              "216812       io devo rinnovare il mio passaporto   \n",
              "\n",
              "                                              english_inp  \\\n",
              "191529                  <start> we went out for breakfast   \n",
              "348233  <start> it is a little more complicated than that   \n",
              "183542                  <start> i was hurt by many people   \n",
              "177500                  <start> are you the new assistant   \n",
              "243784              <start> you should not have come here   \n",
              "99938                        <start> it took just an hour   \n",
              "347839   <start> i will ask him where he went last sunday   \n",
              "213935                <start> have you done your homework   \n",
              "249065              <start> i thought tom might know mary   \n",
              "216812                <start> i need to renew my passport   \n",
              "\n",
              "                                            english_out  \n",
              "191529                  we went out for breakfast <end>  \n",
              "348233  it is a little more complicated than that <end>  \n",
              "183542                  i was hurt by many people <end>  \n",
              "177500                  are you the new assistant <end>  \n",
              "243784              you should not have come here <end>  \n",
              "99938                        it took just an hour <end>  \n",
              "347839   i will ask him where he went last sunday <end>  \n",
              "213935                have you done your homework <end>  \n",
              "249065              i thought tom might know mary <end>  \n",
              "216812                i need to renew my passport <end>  "
            ],
            "text/html": [
              "\n",
              "  <div id=\"df-940c02c3-f13c-4585-83e4-6ddfce8531f8\" class=\"colab-df-container\">\n",
              "    <div>\n",
              "<style scoped>\n",
              "    .dataframe tbody tr th:only-of-type {\n",
              "        vertical-align: middle;\n",
              "    }\n",
              "\n",
              "    .dataframe tbody tr th {\n",
              "        vertical-align: top;\n",
              "    }\n",
              "\n",
              "    .dataframe thead th {\n",
              "        text-align: right;\n",
              "    }\n",
              "</style>\n",
              "<table border=\"1\" class=\"dataframe\">\n",
              "  <thead>\n",
              "    <tr style=\"text-align: right;\">\n",
              "      <th></th>\n",
              "      <th>italian</th>\n",
              "      <th>english_inp</th>\n",
              "      <th>english_out</th>\n",
              "    </tr>\n",
              "  </thead>\n",
              "  <tbody>\n",
              "    <tr>\n",
              "      <th>191529</th>\n",
              "      <td>siamo uscite per la colazione</td>\n",
              "      <td>&lt;start&gt; we went out for breakfast</td>\n",
              "      <td>we went out for breakfast &lt;end&gt;</td>\n",
              "    </tr>\n",
              "    <tr>\n",
              "      <th>348233</th>\n",
              "      <td>è un po più complicata di così</td>\n",
              "      <td>&lt;start&gt; it is a little more complicated than that</td>\n",
              "      <td>it is a little more complicated than that &lt;end&gt;</td>\n",
              "    </tr>\n",
              "    <tr>\n",
              "      <th>183542</th>\n",
              "      <td>io sono stato ferito da molte persone</td>\n",
              "      <td>&lt;start&gt; i was hurt by many people</td>\n",
              "      <td>i was hurt by many people &lt;end&gt;</td>\n",
              "    </tr>\n",
              "    <tr>\n",
              "      <th>177500</th>\n",
              "      <td>lei è la nuova assistente</td>\n",
              "      <td>&lt;start&gt; are you the new assistant</td>\n",
              "      <td>are you the new assistant &lt;end&gt;</td>\n",
              "    </tr>\n",
              "    <tr>\n",
              "      <th>243784</th>\n",
              "      <td>lei non sarebbe dovuto venire qui</td>\n",
              "      <td>&lt;start&gt; you should not have come here</td>\n",
              "      <td>you should not have come here &lt;end&gt;</td>\n",
              "    </tr>\n",
              "    <tr>\n",
              "      <th>99938</th>\n",
              "      <td>ci è voluta solamente unora</td>\n",
              "      <td>&lt;start&gt; it took just an hour</td>\n",
              "      <td>it took just an hour &lt;end&gt;</td>\n",
              "    </tr>\n",
              "    <tr>\n",
              "      <th>347839</th>\n",
              "      <td>gli chiederò dovè andato domenica scorsa</td>\n",
              "      <td>&lt;start&gt; i will ask him where he went last sunday</td>\n",
              "      <td>i will ask him where he went last sunday &lt;end&gt;</td>\n",
              "    </tr>\n",
              "    <tr>\n",
              "      <th>213935</th>\n",
              "      <td>hai fatto i tuoi compiti</td>\n",
              "      <td>&lt;start&gt; have you done your homework</td>\n",
              "      <td>have you done your homework &lt;end&gt;</td>\n",
              "    </tr>\n",
              "    <tr>\n",
              "      <th>249065</th>\n",
              "      <td>pensavo che tom potesse conoscere mary</td>\n",
              "      <td>&lt;start&gt; i thought tom might know mary</td>\n",
              "      <td>i thought tom might know mary &lt;end&gt;</td>\n",
              "    </tr>\n",
              "    <tr>\n",
              "      <th>216812</th>\n",
              "      <td>io devo rinnovare il mio passaporto</td>\n",
              "      <td>&lt;start&gt; i need to renew my passport</td>\n",
              "      <td>i need to renew my passport &lt;end&gt;</td>\n",
              "    </tr>\n",
              "  </tbody>\n",
              "</table>\n",
              "</div>\n",
              "    <div class=\"colab-df-buttons\">\n",
              "\n",
              "  <div class=\"colab-df-container\">\n",
              "    <button class=\"colab-df-convert\" onclick=\"convertToInteractive('df-940c02c3-f13c-4585-83e4-6ddfce8531f8')\"\n",
              "            title=\"Convert this dataframe to an interactive table.\"\n",
              "            style=\"display:none;\">\n",
              "\n",
              "  <svg xmlns=\"http://www.w3.org/2000/svg\" height=\"24px\" viewBox=\"0 -960 960 960\">\n",
              "    <path d=\"M120-120v-720h720v720H120Zm60-500h600v-160H180v160Zm220 220h160v-160H400v160Zm0 220h160v-160H400v160ZM180-400h160v-160H180v160Zm440 0h160v-160H620v160ZM180-180h160v-160H180v160Zm440 0h160v-160H620v160Z\"/>\n",
              "  </svg>\n",
              "    </button>\n",
              "\n",
              "  <style>\n",
              "    .colab-df-container {\n",
              "      display:flex;\n",
              "      gap: 12px;\n",
              "    }\n",
              "\n",
              "    .colab-df-convert {\n",
              "      background-color: #E8F0FE;\n",
              "      border: none;\n",
              "      border-radius: 50%;\n",
              "      cursor: pointer;\n",
              "      display: none;\n",
              "      fill: #1967D2;\n",
              "      height: 32px;\n",
              "      padding: 0 0 0 0;\n",
              "      width: 32px;\n",
              "    }\n",
              "\n",
              "    .colab-df-convert:hover {\n",
              "      background-color: #E2EBFA;\n",
              "      box-shadow: 0px 1px 2px rgba(60, 64, 67, 0.3), 0px 1px 3px 1px rgba(60, 64, 67, 0.15);\n",
              "      fill: #174EA6;\n",
              "    }\n",
              "\n",
              "    .colab-df-buttons div {\n",
              "      margin-bottom: 4px;\n",
              "    }\n",
              "\n",
              "    [theme=dark] .colab-df-convert {\n",
              "      background-color: #3B4455;\n",
              "      fill: #D2E3FC;\n",
              "    }\n",
              "\n",
              "    [theme=dark] .colab-df-convert:hover {\n",
              "      background-color: #434B5C;\n",
              "      box-shadow: 0px 1px 3px 1px rgba(0, 0, 0, 0.15);\n",
              "      filter: drop-shadow(0px 1px 2px rgba(0, 0, 0, 0.3));\n",
              "      fill: #FFFFFF;\n",
              "    }\n",
              "  </style>\n",
              "\n",
              "    <script>\n",
              "      const buttonEl =\n",
              "        document.querySelector('#df-940c02c3-f13c-4585-83e4-6ddfce8531f8 button.colab-df-convert');\n",
              "      buttonEl.style.display =\n",
              "        google.colab.kernel.accessAllowed ? 'block' : 'none';\n",
              "\n",
              "      async function convertToInteractive(key) {\n",
              "        const element = document.querySelector('#df-940c02c3-f13c-4585-83e4-6ddfce8531f8');\n",
              "        const dataTable =\n",
              "          await google.colab.kernel.invokeFunction('convertToInteractive',\n",
              "                                                    [key], {});\n",
              "        if (!dataTable) return;\n",
              "\n",
              "        const docLinkHtml = 'Like what you see? Visit the ' +\n",
              "          '<a target=\"_blank\" href=https://colab.research.google.com/notebooks/data_table.ipynb>data table notebook</a>'\n",
              "          + ' to learn more about interactive tables.';\n",
              "        element.innerHTML = '';\n",
              "        dataTable['output_type'] = 'display_data';\n",
              "        await google.colab.output.renderOutput(dataTable, element);\n",
              "        const docLink = document.createElement('div');\n",
              "        docLink.innerHTML = docLinkHtml;\n",
              "        element.appendChild(docLink);\n",
              "      }\n",
              "    </script>\n",
              "  </div>\n",
              "\n",
              "\n",
              "<div id=\"df-6d51fb5a-f29f-4354-b053-54dd08893ae5\">\n",
              "  <button class=\"colab-df-quickchart\" onclick=\"quickchart('df-6d51fb5a-f29f-4354-b053-54dd08893ae5')\"\n",
              "            title=\"Suggest charts\"\n",
              "            style=\"display:none;\">\n",
              "\n",
              "<svg xmlns=\"http://www.w3.org/2000/svg\" height=\"24px\"viewBox=\"0 0 24 24\"\n",
              "     width=\"24px\">\n",
              "    <g>\n",
              "        <path d=\"M19 3H5c-1.1 0-2 .9-2 2v14c0 1.1.9 2 2 2h14c1.1 0 2-.9 2-2V5c0-1.1-.9-2-2-2zM9 17H7v-7h2v7zm4 0h-2V7h2v10zm4 0h-2v-4h2v4z\"/>\n",
              "    </g>\n",
              "</svg>\n",
              "  </button>\n",
              "\n",
              "<style>\n",
              "  .colab-df-quickchart {\n",
              "      --bg-color: #E8F0FE;\n",
              "      --fill-color: #1967D2;\n",
              "      --hover-bg-color: #E2EBFA;\n",
              "      --hover-fill-color: #174EA6;\n",
              "      --disabled-fill-color: #AAA;\n",
              "      --disabled-bg-color: #DDD;\n",
              "  }\n",
              "\n",
              "  [theme=dark] .colab-df-quickchart {\n",
              "      --bg-color: #3B4455;\n",
              "      --fill-color: #D2E3FC;\n",
              "      --hover-bg-color: #434B5C;\n",
              "      --hover-fill-color: #FFFFFF;\n",
              "      --disabled-bg-color: #3B4455;\n",
              "      --disabled-fill-color: #666;\n",
              "  }\n",
              "\n",
              "  .colab-df-quickchart {\n",
              "    background-color: var(--bg-color);\n",
              "    border: none;\n",
              "    border-radius: 50%;\n",
              "    cursor: pointer;\n",
              "    display: none;\n",
              "    fill: var(--fill-color);\n",
              "    height: 32px;\n",
              "    padding: 0;\n",
              "    width: 32px;\n",
              "  }\n",
              "\n",
              "  .colab-df-quickchart:hover {\n",
              "    background-color: var(--hover-bg-color);\n",
              "    box-shadow: 0 1px 2px rgba(60, 64, 67, 0.3), 0 1px 3px 1px rgba(60, 64, 67, 0.15);\n",
              "    fill: var(--button-hover-fill-color);\n",
              "  }\n",
              "\n",
              "  .colab-df-quickchart-complete:disabled,\n",
              "  .colab-df-quickchart-complete:disabled:hover {\n",
              "    background-color: var(--disabled-bg-color);\n",
              "    fill: var(--disabled-fill-color);\n",
              "    box-shadow: none;\n",
              "  }\n",
              "\n",
              "  .colab-df-spinner {\n",
              "    border: 2px solid var(--fill-color);\n",
              "    border-color: transparent;\n",
              "    border-bottom-color: var(--fill-color);\n",
              "    animation:\n",
              "      spin 1s steps(1) infinite;\n",
              "  }\n",
              "\n",
              "  @keyframes spin {\n",
              "    0% {\n",
              "      border-color: transparent;\n",
              "      border-bottom-color: var(--fill-color);\n",
              "      border-left-color: var(--fill-color);\n",
              "    }\n",
              "    20% {\n",
              "      border-color: transparent;\n",
              "      border-left-color: var(--fill-color);\n",
              "      border-top-color: var(--fill-color);\n",
              "    }\n",
              "    30% {\n",
              "      border-color: transparent;\n",
              "      border-left-color: var(--fill-color);\n",
              "      border-top-color: var(--fill-color);\n",
              "      border-right-color: var(--fill-color);\n",
              "    }\n",
              "    40% {\n",
              "      border-color: transparent;\n",
              "      border-right-color: var(--fill-color);\n",
              "      border-top-color: var(--fill-color);\n",
              "    }\n",
              "    60% {\n",
              "      border-color: transparent;\n",
              "      border-right-color: var(--fill-color);\n",
              "    }\n",
              "    80% {\n",
              "      border-color: transparent;\n",
              "      border-right-color: var(--fill-color);\n",
              "      border-bottom-color: var(--fill-color);\n",
              "    }\n",
              "    90% {\n",
              "      border-color: transparent;\n",
              "      border-bottom-color: var(--fill-color);\n",
              "    }\n",
              "  }\n",
              "</style>\n",
              "\n",
              "  <script>\n",
              "    async function quickchart(key) {\n",
              "      const quickchartButtonEl =\n",
              "        document.querySelector('#' + key + ' button');\n",
              "      quickchartButtonEl.disabled = true;  // To prevent multiple clicks.\n",
              "      quickchartButtonEl.classList.add('colab-df-spinner');\n",
              "      try {\n",
              "        const charts = await google.colab.kernel.invokeFunction(\n",
              "            'suggestCharts', [key], {});\n",
              "      } catch (error) {\n",
              "        console.error('Error during call to suggestCharts:', error);\n",
              "      }\n",
              "      quickchartButtonEl.classList.remove('colab-df-spinner');\n",
              "      quickchartButtonEl.classList.add('colab-df-quickchart-complete');\n",
              "    }\n",
              "    (() => {\n",
              "      let quickchartButtonEl =\n",
              "        document.querySelector('#df-6d51fb5a-f29f-4354-b053-54dd08893ae5 button');\n",
              "      quickchartButtonEl.style.display =\n",
              "        google.colab.kernel.accessAllowed ? 'block' : 'none';\n",
              "    })();\n",
              "  </script>\n",
              "</div>\n",
              "\n",
              "    </div>\n",
              "  </div>\n"
            ],
            "application/vnd.google.colaboratory.intrinsic+json": {
              "type": "dataframe",
              "summary": "{\n  \"name\": \"data\",\n  \"rows\": 10,\n  \"fields\": [\n    {\n      \"column\": \"italian\",\n      \"properties\": {\n        \"dtype\": \"string\",\n        \"num_unique_values\": 10,\n        \"samples\": [\n          \"pensavo che tom potesse conoscere mary\",\n          \"\\u00e8 un po pi\\u00f9 complicata di cos\\u00ec\",\n          \"ci \\u00e8 voluta solamente unora\"\n        ],\n        \"semantic_type\": \"\",\n        \"description\": \"\"\n      }\n    },\n    {\n      \"column\": \"english_inp\",\n      \"properties\": {\n        \"dtype\": \"string\",\n        \"num_unique_values\": 10,\n        \"samples\": [\n          \"<start> i thought tom might know mary\",\n          \"<start> it is a little more complicated than that\",\n          \"<start> it took just an hour\"\n        ],\n        \"semantic_type\": \"\",\n        \"description\": \"\"\n      }\n    },\n    {\n      \"column\": \"english_out\",\n      \"properties\": {\n        \"dtype\": \"string\",\n        \"num_unique_values\": 10,\n        \"samples\": [\n          \"i thought tom might know mary <end>\",\n          \"it is a little more complicated than that <end>\",\n          \"it took just an hour <end>\"\n        ],\n        \"semantic_type\": \"\",\n        \"description\": \"\"\n      }\n    }\n  ]\n}"
            }
          },
          "metadata": {},
          "execution_count": 10
        }
      ],
      "source": [
        "data.sample(10)"
      ]
    },
    {
      "cell_type": "markdown",
      "metadata": {
        "id": "XwguxcX-WriZ"
      },
      "source": [
        "### Teacher Forcing\n",
        "<pre>\n",
        "Let us consider the example data point\n",
        "\n",
        "italian: erano occupate\n",
        "english_inp: &lt;start> they were busy\n",
        "                |     |     |    |\n",
        "english_out:  they   were busy &lt;end>\n",
        "\n",
        "if you observe the sentences, the start token is getting mapped to the first word in your english sentence, the first word is mapped to 2nd word, the 2nd word mapped to 3rd word and so on, finall the last one will is mapped to end token. i.e i the word will be mapped to i+1th word.\n",
        "\n",
        "As we will be passing \"english_inp\" as an input to the decoder and the outputs(predictions) of the decoder will be compared against the \"english_out\"\n",
        "\n",
        "with this way of mapping, we can ensure that the model will predict the next word and calculate the loss accordingly.\n",
        "\n",
        "</pre>"
      ]
    },
    {
      "cell_type": "markdown",
      "metadata": {
        "id": "OrPReYm3Wvqr"
      },
      "source": [
        "### Getting train and test"
      ]
    },
    {
      "cell_type": "code",
      "execution_count": null,
      "metadata": {
        "id": "RV33tpiOWbVL"
      },
      "outputs": [],
      "source": [
        "from sklearn.model_selection import train_test_split\n",
        "train, validation = train_test_split(data, test_size=0.2)"
      ]
    },
    {
      "cell_type": "code",
      "execution_count": null,
      "metadata": {
        "colab": {
          "base_uri": "https://localhost:8080/"
        },
        "id": "Up53YNNkWyaT",
        "outputId": "bb8bddcb-5168-446c-d565-19e4737793af"
      },
      "outputs": [
        {
          "output_type": "stream",
          "name": "stdout",
          "text": [
            "(301942, 3) (75486, 3)\n"
          ]
        },
        {
          "output_type": "stream",
          "name": "stderr",
          "text": [
            "<ipython-input-12-4690921412cb>:4: SettingWithCopyWarning: \n",
            "A value is trying to be set on a copy of a slice from a DataFrame\n",
            "\n",
            "See the caveats in the documentation: https://pandas.pydata.org/pandas-docs/stable/user_guide/indexing.html#returning-a-view-versus-a-copy\n",
            "  train.iloc[0]['english_inp']= str(train.iloc[0]['english_inp'])+' <end>'\n",
            "<ipython-input-12-4690921412cb>:5: SettingWithCopyWarning: \n",
            "A value is trying to be set on a copy of a slice from a DataFrame\n",
            "\n",
            "See the caveats in the documentation: https://pandas.pydata.org/pandas-docs/stable/user_guide/indexing.html#returning-a-view-versus-a-copy\n",
            "  train.iloc[0]['english_out']= str(train.iloc[0]['english_out'])+' <end>'\n"
          ]
        }
      ],
      "source": [
        "print(train.shape, validation.shape)\n",
        "# for one sentence we will be adding <end> token so that the tokanizer learns the word <end>\n",
        "# with this we can use only one tokenizer for both encoder output and decoder output\n",
        "train.iloc[0]['english_inp']= str(train.iloc[0]['english_inp'])+' <end>'\n",
        "train.iloc[0]['english_out']= str(train.iloc[0]['english_out'])+' <end>'"
      ]
    },
    {
      "cell_type": "code",
      "execution_count": null,
      "metadata": {
        "colab": {
          "base_uri": "https://localhost:8080/",
          "height": 206
        },
        "id": "iYDz5H-3W4MF",
        "outputId": "1da4b1db-37ee-43f9-a50a-95cf0032f2eb"
      },
      "outputs": [
        {
          "output_type": "execute_result",
          "data": {
            "text/plain": [
              "                               italian                        english_inp  \\\n",
              "156703  noi ci stavamo solo divertendo    <start> we were just having fun   \n",
              "130376        lo so che odia la scuola     <start> i know you hate school   \n",
              "8565             io non posso fermarmi             <start> i can not stop   \n",
              "272889         lavoro a boston pure io  <start> i work in boston i do too   \n",
              "143801   a lei piacciono i vecchi film    <start> do you enjoy old movies   \n",
              "\n",
              "                            english_out  \n",
              "156703    we were just having fun <end>  \n",
              "130376     i know you hate school <end>  \n",
              "8565               i can not stop <end>  \n",
              "272889  i work in boston i do too <end>  \n",
              "143801    do you enjoy old movies <end>  "
            ],
            "text/html": [
              "\n",
              "  <div id=\"df-30e17d86-2de3-4aff-88aa-333f8619b7d5\" class=\"colab-df-container\">\n",
              "    <div>\n",
              "<style scoped>\n",
              "    .dataframe tbody tr th:only-of-type {\n",
              "        vertical-align: middle;\n",
              "    }\n",
              "\n",
              "    .dataframe tbody tr th {\n",
              "        vertical-align: top;\n",
              "    }\n",
              "\n",
              "    .dataframe thead th {\n",
              "        text-align: right;\n",
              "    }\n",
              "</style>\n",
              "<table border=\"1\" class=\"dataframe\">\n",
              "  <thead>\n",
              "    <tr style=\"text-align: right;\">\n",
              "      <th></th>\n",
              "      <th>italian</th>\n",
              "      <th>english_inp</th>\n",
              "      <th>english_out</th>\n",
              "    </tr>\n",
              "  </thead>\n",
              "  <tbody>\n",
              "    <tr>\n",
              "      <th>156703</th>\n",
              "      <td>noi ci stavamo solo divertendo</td>\n",
              "      <td>&lt;start&gt; we were just having fun</td>\n",
              "      <td>we were just having fun &lt;end&gt;</td>\n",
              "    </tr>\n",
              "    <tr>\n",
              "      <th>130376</th>\n",
              "      <td>lo so che odia la scuola</td>\n",
              "      <td>&lt;start&gt; i know you hate school</td>\n",
              "      <td>i know you hate school &lt;end&gt;</td>\n",
              "    </tr>\n",
              "    <tr>\n",
              "      <th>8565</th>\n",
              "      <td>io non posso fermarmi</td>\n",
              "      <td>&lt;start&gt; i can not stop</td>\n",
              "      <td>i can not stop &lt;end&gt;</td>\n",
              "    </tr>\n",
              "    <tr>\n",
              "      <th>272889</th>\n",
              "      <td>lavoro a boston pure io</td>\n",
              "      <td>&lt;start&gt; i work in boston i do too</td>\n",
              "      <td>i work in boston i do too &lt;end&gt;</td>\n",
              "    </tr>\n",
              "    <tr>\n",
              "      <th>143801</th>\n",
              "      <td>a lei piacciono i vecchi film</td>\n",
              "      <td>&lt;start&gt; do you enjoy old movies</td>\n",
              "      <td>do you enjoy old movies &lt;end&gt;</td>\n",
              "    </tr>\n",
              "  </tbody>\n",
              "</table>\n",
              "</div>\n",
              "    <div class=\"colab-df-buttons\">\n",
              "\n",
              "  <div class=\"colab-df-container\">\n",
              "    <button class=\"colab-df-convert\" onclick=\"convertToInteractive('df-30e17d86-2de3-4aff-88aa-333f8619b7d5')\"\n",
              "            title=\"Convert this dataframe to an interactive table.\"\n",
              "            style=\"display:none;\">\n",
              "\n",
              "  <svg xmlns=\"http://www.w3.org/2000/svg\" height=\"24px\" viewBox=\"0 -960 960 960\">\n",
              "    <path d=\"M120-120v-720h720v720H120Zm60-500h600v-160H180v160Zm220 220h160v-160H400v160Zm0 220h160v-160H400v160ZM180-400h160v-160H180v160Zm440 0h160v-160H620v160ZM180-180h160v-160H180v160Zm440 0h160v-160H620v160Z\"/>\n",
              "  </svg>\n",
              "    </button>\n",
              "\n",
              "  <style>\n",
              "    .colab-df-container {\n",
              "      display:flex;\n",
              "      gap: 12px;\n",
              "    }\n",
              "\n",
              "    .colab-df-convert {\n",
              "      background-color: #E8F0FE;\n",
              "      border: none;\n",
              "      border-radius: 50%;\n",
              "      cursor: pointer;\n",
              "      display: none;\n",
              "      fill: #1967D2;\n",
              "      height: 32px;\n",
              "      padding: 0 0 0 0;\n",
              "      width: 32px;\n",
              "    }\n",
              "\n",
              "    .colab-df-convert:hover {\n",
              "      background-color: #E2EBFA;\n",
              "      box-shadow: 0px 1px 2px rgba(60, 64, 67, 0.3), 0px 1px 3px 1px rgba(60, 64, 67, 0.15);\n",
              "      fill: #174EA6;\n",
              "    }\n",
              "\n",
              "    .colab-df-buttons div {\n",
              "      margin-bottom: 4px;\n",
              "    }\n",
              "\n",
              "    [theme=dark] .colab-df-convert {\n",
              "      background-color: #3B4455;\n",
              "      fill: #D2E3FC;\n",
              "    }\n",
              "\n",
              "    [theme=dark] .colab-df-convert:hover {\n",
              "      background-color: #434B5C;\n",
              "      box-shadow: 0px 1px 3px 1px rgba(0, 0, 0, 0.15);\n",
              "      filter: drop-shadow(0px 1px 2px rgba(0, 0, 0, 0.3));\n",
              "      fill: #FFFFFF;\n",
              "    }\n",
              "  </style>\n",
              "\n",
              "    <script>\n",
              "      const buttonEl =\n",
              "        document.querySelector('#df-30e17d86-2de3-4aff-88aa-333f8619b7d5 button.colab-df-convert');\n",
              "      buttonEl.style.display =\n",
              "        google.colab.kernel.accessAllowed ? 'block' : 'none';\n",
              "\n",
              "      async function convertToInteractive(key) {\n",
              "        const element = document.querySelector('#df-30e17d86-2de3-4aff-88aa-333f8619b7d5');\n",
              "        const dataTable =\n",
              "          await google.colab.kernel.invokeFunction('convertToInteractive',\n",
              "                                                    [key], {});\n",
              "        if (!dataTable) return;\n",
              "\n",
              "        const docLinkHtml = 'Like what you see? Visit the ' +\n",
              "          '<a target=\"_blank\" href=https://colab.research.google.com/notebooks/data_table.ipynb>data table notebook</a>'\n",
              "          + ' to learn more about interactive tables.';\n",
              "        element.innerHTML = '';\n",
              "        dataTable['output_type'] = 'display_data';\n",
              "        await google.colab.output.renderOutput(dataTable, element);\n",
              "        const docLink = document.createElement('div');\n",
              "        docLink.innerHTML = docLinkHtml;\n",
              "        element.appendChild(docLink);\n",
              "      }\n",
              "    </script>\n",
              "  </div>\n",
              "\n",
              "\n",
              "<div id=\"df-39aeac05-4f11-45d4-9465-31d327df0086\">\n",
              "  <button class=\"colab-df-quickchart\" onclick=\"quickchart('df-39aeac05-4f11-45d4-9465-31d327df0086')\"\n",
              "            title=\"Suggest charts\"\n",
              "            style=\"display:none;\">\n",
              "\n",
              "<svg xmlns=\"http://www.w3.org/2000/svg\" height=\"24px\"viewBox=\"0 0 24 24\"\n",
              "     width=\"24px\">\n",
              "    <g>\n",
              "        <path d=\"M19 3H5c-1.1 0-2 .9-2 2v14c0 1.1.9 2 2 2h14c1.1 0 2-.9 2-2V5c0-1.1-.9-2-2-2zM9 17H7v-7h2v7zm4 0h-2V7h2v10zm4 0h-2v-4h2v4z\"/>\n",
              "    </g>\n",
              "</svg>\n",
              "  </button>\n",
              "\n",
              "<style>\n",
              "  .colab-df-quickchart {\n",
              "      --bg-color: #E8F0FE;\n",
              "      --fill-color: #1967D2;\n",
              "      --hover-bg-color: #E2EBFA;\n",
              "      --hover-fill-color: #174EA6;\n",
              "      --disabled-fill-color: #AAA;\n",
              "      --disabled-bg-color: #DDD;\n",
              "  }\n",
              "\n",
              "  [theme=dark] .colab-df-quickchart {\n",
              "      --bg-color: #3B4455;\n",
              "      --fill-color: #D2E3FC;\n",
              "      --hover-bg-color: #434B5C;\n",
              "      --hover-fill-color: #FFFFFF;\n",
              "      --disabled-bg-color: #3B4455;\n",
              "      --disabled-fill-color: #666;\n",
              "  }\n",
              "\n",
              "  .colab-df-quickchart {\n",
              "    background-color: var(--bg-color);\n",
              "    border: none;\n",
              "    border-radius: 50%;\n",
              "    cursor: pointer;\n",
              "    display: none;\n",
              "    fill: var(--fill-color);\n",
              "    height: 32px;\n",
              "    padding: 0;\n",
              "    width: 32px;\n",
              "  }\n",
              "\n",
              "  .colab-df-quickchart:hover {\n",
              "    background-color: var(--hover-bg-color);\n",
              "    box-shadow: 0 1px 2px rgba(60, 64, 67, 0.3), 0 1px 3px 1px rgba(60, 64, 67, 0.15);\n",
              "    fill: var(--button-hover-fill-color);\n",
              "  }\n",
              "\n",
              "  .colab-df-quickchart-complete:disabled,\n",
              "  .colab-df-quickchart-complete:disabled:hover {\n",
              "    background-color: var(--disabled-bg-color);\n",
              "    fill: var(--disabled-fill-color);\n",
              "    box-shadow: none;\n",
              "  }\n",
              "\n",
              "  .colab-df-spinner {\n",
              "    border: 2px solid var(--fill-color);\n",
              "    border-color: transparent;\n",
              "    border-bottom-color: var(--fill-color);\n",
              "    animation:\n",
              "      spin 1s steps(1) infinite;\n",
              "  }\n",
              "\n",
              "  @keyframes spin {\n",
              "    0% {\n",
              "      border-color: transparent;\n",
              "      border-bottom-color: var(--fill-color);\n",
              "      border-left-color: var(--fill-color);\n",
              "    }\n",
              "    20% {\n",
              "      border-color: transparent;\n",
              "      border-left-color: var(--fill-color);\n",
              "      border-top-color: var(--fill-color);\n",
              "    }\n",
              "    30% {\n",
              "      border-color: transparent;\n",
              "      border-left-color: var(--fill-color);\n",
              "      border-top-color: var(--fill-color);\n",
              "      border-right-color: var(--fill-color);\n",
              "    }\n",
              "    40% {\n",
              "      border-color: transparent;\n",
              "      border-right-color: var(--fill-color);\n",
              "      border-top-color: var(--fill-color);\n",
              "    }\n",
              "    60% {\n",
              "      border-color: transparent;\n",
              "      border-right-color: var(--fill-color);\n",
              "    }\n",
              "    80% {\n",
              "      border-color: transparent;\n",
              "      border-right-color: var(--fill-color);\n",
              "      border-bottom-color: var(--fill-color);\n",
              "    }\n",
              "    90% {\n",
              "      border-color: transparent;\n",
              "      border-bottom-color: var(--fill-color);\n",
              "    }\n",
              "  }\n",
              "</style>\n",
              "\n",
              "  <script>\n",
              "    async function quickchart(key) {\n",
              "      const quickchartButtonEl =\n",
              "        document.querySelector('#' + key + ' button');\n",
              "      quickchartButtonEl.disabled = true;  // To prevent multiple clicks.\n",
              "      quickchartButtonEl.classList.add('colab-df-spinner');\n",
              "      try {\n",
              "        const charts = await google.colab.kernel.invokeFunction(\n",
              "            'suggestCharts', [key], {});\n",
              "      } catch (error) {\n",
              "        console.error('Error during call to suggestCharts:', error);\n",
              "      }\n",
              "      quickchartButtonEl.classList.remove('colab-df-spinner');\n",
              "      quickchartButtonEl.classList.add('colab-df-quickchart-complete');\n",
              "    }\n",
              "    (() => {\n",
              "      let quickchartButtonEl =\n",
              "        document.querySelector('#df-39aeac05-4f11-45d4-9465-31d327df0086 button');\n",
              "      quickchartButtonEl.style.display =\n",
              "        google.colab.kernel.accessAllowed ? 'block' : 'none';\n",
              "    })();\n",
              "  </script>\n",
              "</div>\n",
              "\n",
              "    </div>\n",
              "  </div>\n"
            ],
            "application/vnd.google.colaboratory.intrinsic+json": {
              "type": "dataframe",
              "variable_name": "train"
            }
          },
          "metadata": {},
          "execution_count": 13
        }
      ],
      "source": [
        "train.head()"
      ]
    },
    {
      "cell_type": "code",
      "execution_count": null,
      "metadata": {
        "colab": {
          "base_uri": "https://localhost:8080/",
          "height": 206
        },
        "id": "3sOweLAEXAzZ",
        "outputId": "7539c0fe-4526-4858-9711-6e985a5c77ab"
      },
      "outputs": [
        {
          "output_type": "execute_result",
          "data": {
            "text/plain": [
              "                                                 italian  \\\n",
              "335288  tom ha detto che mary mangia spesso delle banane   \n",
              "233819                            pensavo fosse a boston   \n",
              "10538                               loro si schiantarono   \n",
              "336413         avrebbe dovuto completarlo molto tempo fa   \n",
              "332926       sto solo provando ad essere un bravo vicino   \n",
              "\n",
              "                                           english_inp  \\\n",
              "335288   <start> tom said that mary often eats bananas   \n",
              "233819            <start> i thought you were in boston   \n",
              "10538                             <start> they crashed   \n",
              "336413   <start> you should have completed it long ago   \n",
              "332926  <start> i am just trying to be a good neighbor   \n",
              "\n",
              "                                         english_out  \n",
              "335288   tom said that mary often eats bananas <end>  \n",
              "233819            i thought you were in boston <end>  \n",
              "10538                             they crashed <end>  \n",
              "336413   you should have completed it long ago <end>  \n",
              "332926  i am just trying to be a good neighbor <end>  "
            ],
            "text/html": [
              "\n",
              "  <div id=\"df-91ca7c33-705a-4d91-8b2e-36f46aebd005\" class=\"colab-df-container\">\n",
              "    <div>\n",
              "<style scoped>\n",
              "    .dataframe tbody tr th:only-of-type {\n",
              "        vertical-align: middle;\n",
              "    }\n",
              "\n",
              "    .dataframe tbody tr th {\n",
              "        vertical-align: top;\n",
              "    }\n",
              "\n",
              "    .dataframe thead th {\n",
              "        text-align: right;\n",
              "    }\n",
              "</style>\n",
              "<table border=\"1\" class=\"dataframe\">\n",
              "  <thead>\n",
              "    <tr style=\"text-align: right;\">\n",
              "      <th></th>\n",
              "      <th>italian</th>\n",
              "      <th>english_inp</th>\n",
              "      <th>english_out</th>\n",
              "    </tr>\n",
              "  </thead>\n",
              "  <tbody>\n",
              "    <tr>\n",
              "      <th>335288</th>\n",
              "      <td>tom ha detto che mary mangia spesso delle banane</td>\n",
              "      <td>&lt;start&gt; tom said that mary often eats bananas</td>\n",
              "      <td>tom said that mary often eats bananas &lt;end&gt;</td>\n",
              "    </tr>\n",
              "    <tr>\n",
              "      <th>233819</th>\n",
              "      <td>pensavo fosse a boston</td>\n",
              "      <td>&lt;start&gt; i thought you were in boston</td>\n",
              "      <td>i thought you were in boston &lt;end&gt;</td>\n",
              "    </tr>\n",
              "    <tr>\n",
              "      <th>10538</th>\n",
              "      <td>loro si schiantarono</td>\n",
              "      <td>&lt;start&gt; they crashed</td>\n",
              "      <td>they crashed &lt;end&gt;</td>\n",
              "    </tr>\n",
              "    <tr>\n",
              "      <th>336413</th>\n",
              "      <td>avrebbe dovuto completarlo molto tempo fa</td>\n",
              "      <td>&lt;start&gt; you should have completed it long ago</td>\n",
              "      <td>you should have completed it long ago &lt;end&gt;</td>\n",
              "    </tr>\n",
              "    <tr>\n",
              "      <th>332926</th>\n",
              "      <td>sto solo provando ad essere un bravo vicino</td>\n",
              "      <td>&lt;start&gt; i am just trying to be a good neighbor</td>\n",
              "      <td>i am just trying to be a good neighbor &lt;end&gt;</td>\n",
              "    </tr>\n",
              "  </tbody>\n",
              "</table>\n",
              "</div>\n",
              "    <div class=\"colab-df-buttons\">\n",
              "\n",
              "  <div class=\"colab-df-container\">\n",
              "    <button class=\"colab-df-convert\" onclick=\"convertToInteractive('df-91ca7c33-705a-4d91-8b2e-36f46aebd005')\"\n",
              "            title=\"Convert this dataframe to an interactive table.\"\n",
              "            style=\"display:none;\">\n",
              "\n",
              "  <svg xmlns=\"http://www.w3.org/2000/svg\" height=\"24px\" viewBox=\"0 -960 960 960\">\n",
              "    <path d=\"M120-120v-720h720v720H120Zm60-500h600v-160H180v160Zm220 220h160v-160H400v160Zm0 220h160v-160H400v160ZM180-400h160v-160H180v160Zm440 0h160v-160H620v160ZM180-180h160v-160H180v160Zm440 0h160v-160H620v160Z\"/>\n",
              "  </svg>\n",
              "    </button>\n",
              "\n",
              "  <style>\n",
              "    .colab-df-container {\n",
              "      display:flex;\n",
              "      gap: 12px;\n",
              "    }\n",
              "\n",
              "    .colab-df-convert {\n",
              "      background-color: #E8F0FE;\n",
              "      border: none;\n",
              "      border-radius: 50%;\n",
              "      cursor: pointer;\n",
              "      display: none;\n",
              "      fill: #1967D2;\n",
              "      height: 32px;\n",
              "      padding: 0 0 0 0;\n",
              "      width: 32px;\n",
              "    }\n",
              "\n",
              "    .colab-df-convert:hover {\n",
              "      background-color: #E2EBFA;\n",
              "      box-shadow: 0px 1px 2px rgba(60, 64, 67, 0.3), 0px 1px 3px 1px rgba(60, 64, 67, 0.15);\n",
              "      fill: #174EA6;\n",
              "    }\n",
              "\n",
              "    .colab-df-buttons div {\n",
              "      margin-bottom: 4px;\n",
              "    }\n",
              "\n",
              "    [theme=dark] .colab-df-convert {\n",
              "      background-color: #3B4455;\n",
              "      fill: #D2E3FC;\n",
              "    }\n",
              "\n",
              "    [theme=dark] .colab-df-convert:hover {\n",
              "      background-color: #434B5C;\n",
              "      box-shadow: 0px 1px 3px 1px rgba(0, 0, 0, 0.15);\n",
              "      filter: drop-shadow(0px 1px 2px rgba(0, 0, 0, 0.3));\n",
              "      fill: #FFFFFF;\n",
              "    }\n",
              "  </style>\n",
              "\n",
              "    <script>\n",
              "      const buttonEl =\n",
              "        document.querySelector('#df-91ca7c33-705a-4d91-8b2e-36f46aebd005 button.colab-df-convert');\n",
              "      buttonEl.style.display =\n",
              "        google.colab.kernel.accessAllowed ? 'block' : 'none';\n",
              "\n",
              "      async function convertToInteractive(key) {\n",
              "        const element = document.querySelector('#df-91ca7c33-705a-4d91-8b2e-36f46aebd005');\n",
              "        const dataTable =\n",
              "          await google.colab.kernel.invokeFunction('convertToInteractive',\n",
              "                                                    [key], {});\n",
              "        if (!dataTable) return;\n",
              "\n",
              "        const docLinkHtml = 'Like what you see? Visit the ' +\n",
              "          '<a target=\"_blank\" href=https://colab.research.google.com/notebooks/data_table.ipynb>data table notebook</a>'\n",
              "          + ' to learn more about interactive tables.';\n",
              "        element.innerHTML = '';\n",
              "        dataTable['output_type'] = 'display_data';\n",
              "        await google.colab.output.renderOutput(dataTable, element);\n",
              "        const docLink = document.createElement('div');\n",
              "        docLink.innerHTML = docLinkHtml;\n",
              "        element.appendChild(docLink);\n",
              "      }\n",
              "    </script>\n",
              "  </div>\n",
              "\n",
              "\n",
              "<div id=\"df-4c7c82fa-58f7-4c09-a80a-12aa8fd66f2b\">\n",
              "  <button class=\"colab-df-quickchart\" onclick=\"quickchart('df-4c7c82fa-58f7-4c09-a80a-12aa8fd66f2b')\"\n",
              "            title=\"Suggest charts\"\n",
              "            style=\"display:none;\">\n",
              "\n",
              "<svg xmlns=\"http://www.w3.org/2000/svg\" height=\"24px\"viewBox=\"0 0 24 24\"\n",
              "     width=\"24px\">\n",
              "    <g>\n",
              "        <path d=\"M19 3H5c-1.1 0-2 .9-2 2v14c0 1.1.9 2 2 2h14c1.1 0 2-.9 2-2V5c0-1.1-.9-2-2-2zM9 17H7v-7h2v7zm4 0h-2V7h2v10zm4 0h-2v-4h2v4z\"/>\n",
              "    </g>\n",
              "</svg>\n",
              "  </button>\n",
              "\n",
              "<style>\n",
              "  .colab-df-quickchart {\n",
              "      --bg-color: #E8F0FE;\n",
              "      --fill-color: #1967D2;\n",
              "      --hover-bg-color: #E2EBFA;\n",
              "      --hover-fill-color: #174EA6;\n",
              "      --disabled-fill-color: #AAA;\n",
              "      --disabled-bg-color: #DDD;\n",
              "  }\n",
              "\n",
              "  [theme=dark] .colab-df-quickchart {\n",
              "      --bg-color: #3B4455;\n",
              "      --fill-color: #D2E3FC;\n",
              "      --hover-bg-color: #434B5C;\n",
              "      --hover-fill-color: #FFFFFF;\n",
              "      --disabled-bg-color: #3B4455;\n",
              "      --disabled-fill-color: #666;\n",
              "  }\n",
              "\n",
              "  .colab-df-quickchart {\n",
              "    background-color: var(--bg-color);\n",
              "    border: none;\n",
              "    border-radius: 50%;\n",
              "    cursor: pointer;\n",
              "    display: none;\n",
              "    fill: var(--fill-color);\n",
              "    height: 32px;\n",
              "    padding: 0;\n",
              "    width: 32px;\n",
              "  }\n",
              "\n",
              "  .colab-df-quickchart:hover {\n",
              "    background-color: var(--hover-bg-color);\n",
              "    box-shadow: 0 1px 2px rgba(60, 64, 67, 0.3), 0 1px 3px 1px rgba(60, 64, 67, 0.15);\n",
              "    fill: var(--button-hover-fill-color);\n",
              "  }\n",
              "\n",
              "  .colab-df-quickchart-complete:disabled,\n",
              "  .colab-df-quickchart-complete:disabled:hover {\n",
              "    background-color: var(--disabled-bg-color);\n",
              "    fill: var(--disabled-fill-color);\n",
              "    box-shadow: none;\n",
              "  }\n",
              "\n",
              "  .colab-df-spinner {\n",
              "    border: 2px solid var(--fill-color);\n",
              "    border-color: transparent;\n",
              "    border-bottom-color: var(--fill-color);\n",
              "    animation:\n",
              "      spin 1s steps(1) infinite;\n",
              "  }\n",
              "\n",
              "  @keyframes spin {\n",
              "    0% {\n",
              "      border-color: transparent;\n",
              "      border-bottom-color: var(--fill-color);\n",
              "      border-left-color: var(--fill-color);\n",
              "    }\n",
              "    20% {\n",
              "      border-color: transparent;\n",
              "      border-left-color: var(--fill-color);\n",
              "      border-top-color: var(--fill-color);\n",
              "    }\n",
              "    30% {\n",
              "      border-color: transparent;\n",
              "      border-left-color: var(--fill-color);\n",
              "      border-top-color: var(--fill-color);\n",
              "      border-right-color: var(--fill-color);\n",
              "    }\n",
              "    40% {\n",
              "      border-color: transparent;\n",
              "      border-right-color: var(--fill-color);\n",
              "      border-top-color: var(--fill-color);\n",
              "    }\n",
              "    60% {\n",
              "      border-color: transparent;\n",
              "      border-right-color: var(--fill-color);\n",
              "    }\n",
              "    80% {\n",
              "      border-color: transparent;\n",
              "      border-right-color: var(--fill-color);\n",
              "      border-bottom-color: var(--fill-color);\n",
              "    }\n",
              "    90% {\n",
              "      border-color: transparent;\n",
              "      border-bottom-color: var(--fill-color);\n",
              "    }\n",
              "  }\n",
              "</style>\n",
              "\n",
              "  <script>\n",
              "    async function quickchart(key) {\n",
              "      const quickchartButtonEl =\n",
              "        document.querySelector('#' + key + ' button');\n",
              "      quickchartButtonEl.disabled = true;  // To prevent multiple clicks.\n",
              "      quickchartButtonEl.classList.add('colab-df-spinner');\n",
              "      try {\n",
              "        const charts = await google.colab.kernel.invokeFunction(\n",
              "            'suggestCharts', [key], {});\n",
              "      } catch (error) {\n",
              "        console.error('Error during call to suggestCharts:', error);\n",
              "      }\n",
              "      quickchartButtonEl.classList.remove('colab-df-spinner');\n",
              "      quickchartButtonEl.classList.add('colab-df-quickchart-complete');\n",
              "    }\n",
              "    (() => {\n",
              "      let quickchartButtonEl =\n",
              "        document.querySelector('#df-4c7c82fa-58f7-4c09-a80a-12aa8fd66f2b button');\n",
              "      quickchartButtonEl.style.display =\n",
              "        google.colab.kernel.accessAllowed ? 'block' : 'none';\n",
              "    })();\n",
              "  </script>\n",
              "</div>\n",
              "\n",
              "    </div>\n",
              "  </div>\n"
            ],
            "application/vnd.google.colaboratory.intrinsic+json": {
              "type": "dataframe",
              "variable_name": "validation",
              "summary": "{\n  \"name\": \"validation\",\n  \"rows\": 75486,\n  \"fields\": [\n    {\n      \"column\": \"italian\",\n      \"properties\": {\n        \"dtype\": \"string\",\n        \"num_unique_values\": 74068,\n        \"samples\": [\n          \"non ti giudicher\\u00f2\",\n          \"nessuno mi ha pagato niente\",\n          \"non avevo intenzione di ferire i sentimenti di tom\"\n        ],\n        \"semantic_type\": \"\",\n        \"description\": \"\"\n      }\n    },\n    {\n      \"column\": \"english_inp\",\n      \"properties\": {\n        \"dtype\": \"string\",\n        \"num_unique_values\": 58942,\n        \"samples\": [\n          \"<start> would you like to play soccer with us\",\n          \"<start> tom wants a new bicycle\",\n          \"<start> he killed himself last night\"\n        ],\n        \"semantic_type\": \"\",\n        \"description\": \"\"\n      }\n    },\n    {\n      \"column\": \"english_out\",\n      \"properties\": {\n        \"dtype\": \"string\",\n        \"num_unique_values\": 58942,\n        \"samples\": [\n          \"would you like to play soccer with us <end>\",\n          \"tom wants a new bicycle <end>\",\n          \"he killed himself last night <end>\"\n        ],\n        \"semantic_type\": \"\",\n        \"description\": \"\"\n      }\n    }\n  ]\n}"
            }
          },
          "metadata": {},
          "execution_count": 14
        }
      ],
      "source": [
        "validation.head()"
      ]
    },
    {
      "cell_type": "code",
      "execution_count": null,
      "metadata": {
        "colab": {
          "base_uri": "https://localhost:8080/",
          "height": 882
        },
        "id": "Wt9fZIZPXEm1",
        "outputId": "3a5c3516-095f-40d6-9812-f056c49da915"
      },
      "outputs": [
        {
          "output_type": "display_data",
          "data": {
            "text/plain": [
              "<Figure size 640x480 with 1 Axes>"
            ],
            "image/png": "[encoded data removed]"
          },
          "metadata": {}
        },
        {
          "output_type": "display_data",
          "data": {
            "text/plain": [
              "<Figure size 640x480 with 1 Axes>"
            ],
            "image/png": "[encoded data removed]"
          },
          "metadata": {}
        }
      ],
      "source": [
        "ita_lengths = train['italian'].str.split().apply(len)\n",
        "eng_lengths = train['english_inp'].str.split().apply(len)\n",
        "import seaborn as sns\n",
        "sns.kdeplot(ita_lengths)\n",
        "plt.show()\n",
        "sns.kdeplot(eng_lengths)\n",
        "plt.show()"
      ]
    },
    {
      "cell_type": "markdown",
      "metadata": {
        "id": "MRfpNgG6XTlw"
      },
      "source": [
        "### Creating Tokenizer on the train data and learning vocabulary"
      ]
    },
    {
      "cell_type": "markdown",
      "metadata": {
        "id": "375FJ_NyXW01"
      },
      "source": [
        "> Note that we are fitting the tokenizer only on train data and check the filters for english, we need to remove symbols &lt; and &gt;"
      ]
    },
    {
      "cell_type": "code",
      "execution_count": null,
      "metadata": {
        "id": "EWPmv6UAXJCx"
      },
      "outputs": [],
      "source": [
        "tknizer_ita = Tokenizer()\n",
        "tknizer_ita.fit_on_texts(train['italian'].values)\n",
        "tknizer_eng = Tokenizer(filters='!\"#$%&()*+,-./:;=?@[\\\\]^_`{|}~\\t\\n')\n",
        "tknizer_eng.fit_on_texts(train['english_inp'].values)"
      ]
    },
    {
      "cell_type": "code",
      "execution_count": null,
      "metadata": {
        "colab": {
          "base_uri": "https://localhost:8080/"
        },
        "id": "1wVp6mVNXc5t",
        "outputId": "785e2e20-0446-46c4-cd5e-67d63757bd22"
      },
      "outputs": [
        {
          "output_type": "stream",
          "name": "stdout",
          "text": [
            "13414\n",
            "27432\n"
          ]
        }
      ],
      "source": [
        "vocab_size_eng=len(tknizer_eng.word_index.keys())\n",
        "print(vocab_size_eng)\n",
        "vocab_size_ita=len(tknizer_ita.word_index.keys())\n",
        "print(vocab_size_ita)"
      ]
    },
    {
      "cell_type": "code",
      "execution_count": null,
      "metadata": {
        "id": "9sKYqoDfXg4m"
      },
      "outputs": [],
      "source": [
        "#tknizer_eng.word_index['<start>'], tknizer_eng.word_index['<end>']"
      ]
    },
    {
      "cell_type": "code",
      "execution_count": null,
      "metadata": {
        "id": "Cw0iWieXXzax"
      },
      "outputs": [],
      "source": [
        "# def grader_1(data):\n",
        "#     shape_value = data.shape ==(340044, 3)\n",
        "#     tknizer = Tokenizer(char_level=True)\n",
        "#     tknizer.fit_on_texts(data['italian'].values)\n",
        "#     ita_chars = tknizer.word_index.keys()\n",
        "#     diff_chars_ita = set(ita_chars)-set([' ', 't', 'a', 'o', 'r', 'e', 's', 'i', 'n', 'l', 'c', 'm', 'u', 'd', 'p', 'v', 'h', 'g', 'b', 'f', 'è', 'q', 'z', 'ò', 'à', 'y', 'é', 'ì', 'ù', 'k', 'w', '0', 'j', '1', '3', '2', 'x', '9', '5', '8', '4', '6', '7', 'á', 'ñ', 'ê', 'ü', 'ō', 'î', 'ö', 'ú', 'º'])\n",
        "#     tknizer = Tokenizer(char_level=True)\n",
        "#     tknizer.fit_on_texts(data['english_inp'].values)\n",
        "#     eng_chars = tknizer.word_index.keys()\n",
        "#     diff_chars_eng = set(eng_chars)-set(['<','>',' ', 'e', 'o', 't', 'i', 'a', 'n', 's', 'h', 'r', 'l', 'd', 'm', 'y', 'u', 'w', 'g', 'c', 'p', 'f', 'b', 'k', 'v', 'j', 'x', 'z', 'q', '0', '1', '3', '2', '9', '5', '8', '6', '4', '7'])\n",
        "#     unique_char_value = (len(diff_chars_eng)==0) and (len(diff_chars_ita)==0)\n",
        "#     return unique_char_value and shape_value\n",
        "\n",
        "# grader_1(data)"
      ]
    },
    {
      "cell_type": "markdown",
      "metadata": {
        "id": "tG6HwkBpX6Pf"
      },
      "source": [
        "### Creating embeddings for english sentences"
      ]
    },
    {
      "cell_type": "code",
      "execution_count": null,
      "metadata": {
        "id": "js9FhVZIX21l"
      },
      "outputs": [],
      "source": [
        "embeddings_index = dict()\n",
        "f = open('glove.6B.100d.txt')\n",
        "for line in f:\n",
        "    values = line.split()\n",
        "    word = values[0]\n",
        "    coefs = np.asarray(values[1:], dtype='float32')\n",
        "    embeddings_index[word] = coefs\n",
        "f.close()\n",
        "\n",
        "embedding_matrix = np.zeros((vocab_size_eng+1, 100))\n",
        "for word, i in tknizer_eng.word_index.items():\n",
        "    embedding_vector = embeddings_index.get(word)\n",
        "    if embedding_vector is not None:\n",
        "        embedding_matrix[i] = embedding_vector"
      ]
    },
    {
      "cell_type": "code",
      "execution_count": null,
      "metadata": {
        "colab": {
          "base_uri": "https://localhost:8080/"
        },
        "id": "KxsyRuNAX-69",
        "outputId": "9c3c43d3-6e43-450c-bdb4-1e688cdadda5"
      },
      "outputs": [
        {
          "output_type": "execute_result",
          "data": {
            "text/plain": [
              "(13415, 100)"
            ]
          },
          "metadata": {},
          "execution_count": 21
        }
      ],
      "source": [
        "embedding_matrix.shape"
      ]
    },
    {
      "cell_type": "markdown",
      "metadata": {
        "id": "jbpr0XfZYyv0"
      },
      "source": [
        "## <font color='blue'>**Implement custom encoder decoder**</font>"
      ]
    },
    {
      "cell_type": "markdown",
      "metadata": {
        "id": "8X8c7J2uZnqU"
      },
      "source": [
        "<font color='blue'>**Encoder**</font>"
      ]
    },
    {
      "cell_type": "code",
      "execution_count": null,
      "metadata": {
        "id": "yORRKiJ-YKO6"
      },
      "outputs": [],
      "source": [
        "class Encoder(tf.keras.Model):\n",
        "    '''\n",
        "    Encoder model -- That takes a input sequence and returns encoder-outputs,encoder_final_state_h,encoder_final_state_c\n",
        "    '''\n",
        "\n",
        "    def __init__(self,inp_vocab_size,embedding_size,lstm_size,input_length):\n",
        "\n",
        "        #Initialize Embedding layer\n",
        "        #Intialize Encoder LSTM layer\n",
        "        super().__init__()\n",
        "\n",
        "        self.inp_vocab_size = inp_vocab_size\n",
        "        self.embedding_size = embedding_size\n",
        "        self.lstm_size = lstm_size\n",
        "        self.input_length = input_length\n",
        "        self.lstm_out = 0\n",
        "        self.lstm_encoder_final_state_h = 0\n",
        "        self.lstm_encoder_final_state_c = 0\n",
        "        self.embedding = Embedding(input_dim=self.inp_vocab_size,output_dim=self.embedding_size,input_length=self.input_length,mask_zero=True, name=\"embedding_layer_encoder\")\n",
        "\n",
        "        self.lstm = LSTM(self.lstm_size,return_state=True,return_sequences=True,name=\"Encoder_LSTM\")\n",
        "\n",
        "        #self.num_outputs = num_outputs\n",
        "\n",
        "\n",
        "    def call(self,input_sequence,states):\n",
        "\n",
        "        '''\n",
        "          This function takes a sequence input and the initial states of the encoder.\n",
        "          Pass the input_sequence input to the Embedding layer, Pass the embedding layer ouput to encoder_lstm\n",
        "          returns -- encoder_output, last time step's hidden and cell state\n",
        "        '''\n",
        "        input_embedd=self.embedding(input_sequence)\n",
        "        self.lstm_out,self.lstm_encoder_final_state_h,self.lstm_encoder_final_state_c=self.lstm(input_embedd)\n",
        "        return self.lstm_out,self.lstm_encoder_final_state_h,self.lstm_encoder_final_state_c\n",
        "\n",
        "\n",
        "\n",
        "\n",
        "    def initialize_states(self,batch_size):\n",
        "      '''\n",
        "      Given a batch size it will return intial hidden state and intial cell state.\n",
        "      If batch size is 32- Hidden state is zeros of size [32,lstm_units], cell state zeros is of size [32,lstm_units]\n",
        "      '''\n",
        "      return tf.zeros((batch_size,self.lstm_size)),tf.zeros((batch_size,self.lstm_size))\n",
        "\n"
      ]
    },
    {
      "cell_type": "markdown",
      "metadata": {
        "id": "l0vchgF3ZuVw"
      },
      "source": [
        "<font color='orange'>**Grader function - 1**</font>"
      ]
    },
    {
      "cell_type": "code",
      "execution_count": null,
      "metadata": {
        "colab": {
          "base_uri": "https://localhost:8080/"
        },
        "id": "-YSYZCNTY1Xx",
        "outputId": "e39643d6-e46c-45ca-c141-ee5af5c91b28"
      },
      "outputs": [
        {
          "output_type": "stream",
          "name": "stderr",
          "text": [
            "/usr/local/lib/python3.10/dist-packages/keras/src/layers/core/embedding.py:90: UserWarning: Argument `input_length` is deprecated. Just remove it.\n",
            "  warnings.warn(\n"
          ]
        },
        {
          "output_type": "stream",
          "name": "stdout",
          "text": [
            "True\n"
          ]
        }
      ],
      "source": [
        "def grader_check_encoder():\n",
        "    '''\n",
        "        vocab-size: Unique words of the input language,\n",
        "        embedding_size: output embedding dimension for each word after embedding layer,\n",
        "        lstm_size: Number of lstm units,\n",
        "        input_length: Length of the input sentence,\n",
        "        batch_size\n",
        "    '''\n",
        "    vocab_size=10\n",
        "    embedding_size=20\n",
        "    lstm_size=32\n",
        "    input_length=10\n",
        "    batch_size=16\n",
        "    #Intialzing encoder\n",
        "    encoder=Encoder(vocab_size,embedding_size,lstm_size,input_length)\n",
        "    input_sequence=tf.random.uniform(shape=[batch_size,input_length],maxval=vocab_size,minval=0,dtype=tf.int32)\n",
        "    #Intializing encoder initial states\n",
        "    initial_state=encoder.initialize_states(batch_size)\n",
        "\n",
        "    encoder_output,state_h,state_c=encoder(input_sequence,initial_state)\n",
        "\n",
        "    assert(encoder_output.shape==(batch_size,input_length,lstm_size) and state_h.shape==(batch_size,lstm_size) and state_c.shape==(batch_size,lstm_size))\n",
        "    return True\n",
        "print(grader_check_encoder())"
      ]
    },
    {
      "cell_type": "code",
      "execution_count": null,
      "metadata": {
        "id": "Q8FGEneaQDVA"
      },
      "outputs": [],
      "source": [
        "class Decoder(tf.keras.Model):\n",
        "    '''\n",
        "    Encoder model -- That takes a input sequence and returns output sequence\n",
        "    '''\n",
        "\n",
        "    def __init__(self,out_vocab_size,embedding_size,lstm_size,input_length):\n",
        "\n",
        "        #Initialize Embedding layer\n",
        "        #Intialize Decoder LSTM layer\n",
        "        super().__init__()\n",
        "        self.out_vocab_size=out_vocab_size\n",
        "        self.embedding_size=embedding_size\n",
        "        self.lstm_size=lstm_size\n",
        "        self.input_length=input_length\n",
        "\n",
        "        self.embedding=Embedding(input_dim=self.out_vocab_size,output_dim=self.embedding_size,input_length=self.input_length,mask_zero=True,name=\"embedding_layer_encoder\")\n",
        "        self.lstm=LSTM(self.lstm_size,return_sequences=True,return_state=True,name=\"Encoder_LSTM\")\n",
        "\n",
        "\n",
        "\n",
        "    def call(self,input_sequence,initial_states):\n",
        "        '''\n",
        "          This function takes a sequence input and the initial states of the encoder.\n",
        "          Pass the input_sequence input to the Embedding layer, Pass the embedding layer ouput to decoder_lstm\n",
        "\n",
        "          returns -- decoder_output,decoder_final_state_h,decoder_final_state_c\n",
        "        '''\n",
        "        input_embedd=self.embedding(input_sequence)\n",
        "        decoder_out,decoder_final_state_c,decoder_final_state_h =self.lstm(input_embedd)\n",
        "        return decoder_out,decoder_final_state_c,decoder_final_state_h\n",
        "        #self.lstm_out,self.lstm_encoder_final_state_h,self.lstm_encoder_final_state_c=self.lstm(input_embedd)\n",
        "        #return self.lstm_out,self.lstm_encoder_final_state_h,self.lstm_encoder_final_state_c\n",
        "\n",
        "\n"
      ]
    },
    {
      "cell_type": "markdown",
      "metadata": {
        "id": "gURVsdVGYAyO"
      },
      "source": [
        "italicized text<font color='orange'>**Grader function - 2**</font>"
      ]
    },
    {
      "cell_type": "code",
      "execution_count": null,
      "metadata": {
        "colab": {
          "base_uri": "https://localhost:8080/"
        },
        "id": "SuvaRABFX-RH",
        "outputId": "79615974-fc72-49e1-9951-83b5c44b7191"
      },
      "outputs": [
        {
          "output_type": "stream",
          "name": "stdout",
          "text": [
            "True\n"
          ]
        }
      ],
      "source": [
        "def grader_decoder():\n",
        "    '''\n",
        "        out_vocab_size: Unique words of the target language,\n",
        "        embedding_size: output embedding dimension for each word after embedding layer,\n",
        "        dec_units: Number of lstm units in decoder,\n",
        "        input_length: Length of the input sentence,\n",
        "        batch_size\n",
        "\n",
        "\n",
        "    '''\n",
        "    out_vocab_size=13\n",
        "    embedding_dim=12\n",
        "    input_length=10\n",
        "    dec_units=16\n",
        "    batch_size=32\n",
        "\n",
        "    target_sentences=tf.random.uniform(shape=(batch_size,input_length),maxval=10,minval=0,dtype=tf.int32)\n",
        "    encoder_output=tf.random.uniform(shape=[batch_size,input_length,dec_units])\n",
        "    state_h=tf.random.uniform(shape=[batch_size,dec_units])\n",
        "    state_c=tf.random.uniform(shape=[batch_size,dec_units])\n",
        "    states=[state_h,state_c]\n",
        "    decoder=Decoder(out_vocab_size, embedding_dim, dec_units,input_length )\n",
        "    output,_,_=decoder(target_sentences, states)\n",
        "    assert(output.shape==(batch_size,input_length,dec_units))\n",
        "    return True\n",
        "print(grader_decoder())\n"
      ]
    },
    {
      "cell_type": "code",
      "execution_count": null,
      "metadata": {
        "id": "LFs78OYWX-OL"
      },
      "outputs": [],
      "source": [
        "class Dataset:\n",
        "    def __init__(self, data, tknizer_ita, tknizer_eng, max_len):\n",
        "        self.encoder_inps = data['italian'].values\n",
        "        self.decoder_inps = data['english_inp'].values\n",
        "        self.decoder_outs = data['english_out'].values\n",
        "        self.tknizer_eng = tknizer_eng\n",
        "        self.tknizer_ita = tknizer_ita\n",
        "        self.max_len = max_len\n",
        "\n",
        "    def __getitem__(self, i):\n",
        "        self.encoder_seq = self.tknizer_ita.texts_to_sequences([self.encoder_inps[i]]) # need to pass list of values\n",
        "        self.decoder_inp_seq = self.tknizer_eng.texts_to_sequences([self.decoder_inps[i]])\n",
        "        self.decoder_out_seq = self.tknizer_eng.texts_to_sequences([self.decoder_outs[i]])\n",
        "\n",
        "        self.encoder_seq = pad_sequences(self.encoder_seq, maxlen=self.max_len, dtype='int32', padding='post')\n",
        "        self.decoder_inp_seq = pad_sequences(self.decoder_inp_seq, maxlen=self.max_len, dtype='int32', padding='post')\n",
        "        self.decoder_out_seq = pad_sequences(self.decoder_out_seq, maxlen=self.max_len, dtype='int32', padding='post')\n",
        "        return self.encoder_seq, self.decoder_inp_seq, self.decoder_out_seq\n",
        "\n",
        "    def __len__(self): # your model.fit_gen requires this function\n",
        "        return len(self.encoder_inps)\n",
        "\n",
        "\n",
        "class Dataloder(tf.keras.utils.Sequence):\n",
        "    def __init__(self, dataset, batch_size=1):\n",
        "        self.dataset = dataset\n",
        "        self.batch_size = batch_size\n",
        "        self.indexes = np.arange(len(self.dataset.encoder_inps))\n",
        "\n",
        "\n",
        "    def __getitem__(self, i):\n",
        "        start = i * self.batch_size\n",
        "        stop = (i + 1) * self.batch_size\n",
        "        data = []\n",
        "        for j in range(start, stop):\n",
        "            data.append(self.dataset[j])\n",
        "\n",
        "        batch = [np.squeeze(np.stack(samples, axis=1), axis=0) for samples in zip(*data)]\n",
        "        # we are creating data like ([italian, english_inp], english_out) these are already converted into seq\n",
        "        return tuple([[batch[0],batch[1]],batch[2]])\n",
        "\n",
        "    def __len__(self):  # your model.fit_gen requires this function\n",
        "        return len(self.indexes) // self.batch_size\n",
        "\n",
        "    def on_epoch_end(self):\n",
        "        self.indexes = np.random.permutation(self.indexes)"
      ]
    },
    {
      "cell_type": "code",
      "execution_count": null,
      "metadata": {
        "colab": {
          "base_uri": "https://localhost:8080/"
        },
        "id": "arb19laGna-I",
        "outputId": "3ddaae17-e402-457e-9048-1b0c84ac3c89"
      },
      "outputs": [
        {
          "output_type": "stream",
          "name": "stdout",
          "text": [
            "(1024, 20) (1024, 20) (1024, 20)\n"
          ]
        }
      ],
      "source": [
        "\n",
        "train_dataset = Dataset(train, tknizer_ita, tknizer_eng, 20)\n",
        "test_dataset  = Dataset(validation, tknizer_ita, tknizer_eng, 20)\n",
        "\n",
        "train_dataloader = Dataloder(train_dataset, batch_size=1024)\n",
        "test_dataloader = Dataloder(test_dataset, batch_size=1024)\n",
        "\n",
        "\n",
        "print(train_dataloader[0][0][0].shape, train_dataloader[0][0][1].shape, train_dataloader[0][1].shape)"
      ]
    },
    {
      "cell_type": "code",
      "execution_count": null,
      "metadata": {
        "id": "tfR5EfyvMpEg"
      },
      "outputs": [],
      "source": []
    },
    {
      "cell_type": "code",
      "execution_count": null,
      "metadata": {
        "id": "AdJGID_inhqD"
      },
      "outputs": [],
      "source": [
        "class Encoder_decoder(tf.keras.Model):\n",
        "\n",
        "    def __init__(self,encoder_inputs_length=20,decoder_inputs_length=20,inp_vocab_size=vocab_size_ita, out_vocab_size=vocab_size_eng,lstm_size=128):\n",
        "\n",
        "        #Create encoder object\n",
        "        #Create decoder object\n",
        "        #Intialize Dense layer(out_vocab_size) with activation='softmax'\n",
        "        super().__init__() # https://stackoverflow.com/a/27134600/4084039\n",
        "        self.encoder = Encoder(inp_vocab_size=vocab_size_ita + 1, embedding_size=50, input_length=encoder_inputs_length,lstm_size=256)\n",
        "        self.decoder = Decoder(out_vocab_size=vocab_size_eng + 1, embedding_size=100, input_length=decoder_inputs_length,lstm_size=256)\n",
        "        self.dense   = Dense(out_vocab_size, activation='softmax')\n",
        "\n",
        "\n",
        "\n",
        "    def call(self,data):\n",
        "        '''\n",
        "        A. Pass the input sequence to Encoder layer -- Return encoder_output,encoder_final_state_h,encoder_final_state_c\n",
        "        B. Pass the target sequence to Decoder layer with intial states as encoder_final_state_h,encoder_final_state_C\n",
        "        C. Pass the decoder_outputs into Dense layer\n",
        "\n",
        "        Return decoder_outputs\n",
        "        '''\n",
        "        input,output = data[0], data[1]\n",
        "        initial_state = self.encoder.initialize_states(len(input))\n",
        "        encoder_output, encoder_h, encoder_c = self.encoder(input,initial_state)\n",
        "        decoder_output ,__,__                      = self.decoder(output,initial_states=[ encoder_h, encoder_c])\n",
        "        output                               = self.dense(decoder_output)\n",
        "        return output\n",
        "\n"
      ]
    },
    {
      "cell_type": "code",
      "execution_count": null,
      "metadata": {
        "id": "5jDB_Fg7nH6C"
      },
      "outputs": [],
      "source": [
        "#Create an object of encoder_decoder Model class,\n",
        "# Compile the model and fit the model\n"
      ]
    },
    {
      "cell_type": "code",
      "execution_count": null,
      "metadata": {
        "id": "vbf4iCEdo5Uh"
      },
      "outputs": [],
      "source": [
        "import datetime"
      ]
    },
    {
      "cell_type": "markdown",
      "metadata": {
        "id": "IQMFg9e_r-3S"
      },
      "source": [
        "### Model training 1"
      ]
    },
    {
      "cell_type": "markdown",
      "metadata": {
        "id": "ILSaIJH1zvxy"
      },
      "source": [
        "Simple encoder decoder model"
      ]
    },
    {
      "cell_type": "markdown",
      "metadata": {
        "id": "cKpBmzyYzqQx"
      },
      "source": [
        "Without Attention model"
      ]
    },
    {
      "cell_type": "code",
      "execution_count": null,
      "metadata": {
        "colab": {
          "base_uri": "https://localhost:8080/",
          "height": 216
        },
        "id": "3Nvk1OknNqPI",
        "outputId": "ab39412f-ec5c-47b2-a148-8ff22cae44ab"
      },
      "outputs": [
        {
          "output_type": "error",
          "ename": "AttributeError",
          "evalue": "'Encoder_decoder' object has no attribute 'fit_generator'",
          "traceback": [
            "\u001b[0;31m---------------------------------------------------------------------------\u001b[0m",
            "\u001b[0;31mAttributeError\u001b[0m                            Traceback (most recent call last)",
            "\u001b[0;32m<ipython-input-31-8273f199cce4>\u001b[0m in \u001b[0;36m<cell line: 14>\u001b[0;34m()\u001b[0m\n\u001b[1;32m     12\u001b[0m \u001b[0mtrain_steps\u001b[0m\u001b[0;34m=\u001b[0m\u001b[0mtrain\u001b[0m\u001b[0;34m.\u001b[0m\u001b[0mshape\u001b[0m\u001b[0;34m[\u001b[0m\u001b[0;36m0\u001b[0m\u001b[0;34m]\u001b[0m\u001b[0;34m//\u001b[0m\u001b[0;36m1024\u001b[0m\u001b[0;34m\u001b[0m\u001b[0;34m\u001b[0m\u001b[0m\n\u001b[1;32m     13\u001b[0m \u001b[0mvalid_steps\u001b[0m\u001b[0;34m=\u001b[0m\u001b[0mvalidation\u001b[0m\u001b[0;34m.\u001b[0m\u001b[0mshape\u001b[0m\u001b[0;34m[\u001b[0m\u001b[0;36m0\u001b[0m\u001b[0;34m]\u001b[0m\u001b[0;34m//\u001b[0m\u001b[0;36m1024\u001b[0m\u001b[0;34m\u001b[0m\u001b[0;34m\u001b[0m\u001b[0m\n\u001b[0;32m---> 14\u001b[0;31m model.fit_generator(train_dataloader, \n\u001b[0m\u001b[1;32m     15\u001b[0m                     \u001b[0msteps_per_epoch\u001b[0m\u001b[0;34m=\u001b[0m\u001b[0mtrain_steps\u001b[0m\u001b[0;34m,\u001b[0m \u001b[0mepochs\u001b[0m\u001b[0;34m=\u001b[0m\u001b[0;36m30\u001b[0m\u001b[0;34m,\u001b[0m\u001b[0;34m\u001b[0m\u001b[0;34m\u001b[0m\u001b[0m\n\u001b[1;32m     16\u001b[0m                     \u001b[0mvalidation_data\u001b[0m\u001b[0;34m=\u001b[0m\u001b[0mtest_dataloader\u001b[0m\u001b[0;34m,\u001b[0m\u001b[0;34m\u001b[0m\u001b[0;34m\u001b[0m\u001b[0m\n",
            "\u001b[0;31mAttributeError\u001b[0m: 'Encoder_decoder' object has no attribute 'fit_generator'"
          ]
        }
      ],
      "source": [
        "import datetime\n",
        "%load_ext tensorboard\n",
        "log_dir = \"logs/fit/\" + datetime.datetime.now().strftime(\"%Y%m%d-%H%M%S\")\n",
        "tensorboard = tf.keras.callbacks.TensorBoard(log_dir=log_dir,\n",
        "                                                      histogram_freq=1)\n",
        "model  = Encoder_decoder(encoder_inputs_length=20,decoder_inputs_length=20,inp_vocab_size=vocab_size_ita,\n",
        "                         out_vocab_size=vocab_size_eng,lstm_size=128)\n",
        "optimizer = tf.keras.optimizers.Adam()\n",
        "model.compile(optimizer=optimizer,loss='sparse_categorical_crossentropy',metrics=['accuracy'])\n",
        "#log_dir=\"logs\\\\\" + datetime.datetime.now().strftime(\"%Y%m%d-%H%M%S\")\n",
        "#tensorboard_callback = tf.keras.callbacks.TensorBoard(log_dir=log_dir,histogram_freq=1, write_graph=True)\n",
        "train_steps=train.shape[0]//1024\n",
        "valid_steps=validation.shape[0]//1024\n",
        "model.fit_generator(train_dataloader,\n",
        "                    steps_per_epoch=train_steps, epochs=30,\n",
        "                    validation_data=test_dataloader,\n",
        "                    validation_steps=valid_steps,callbacks=[tensorboard])\n",
        "model.summary()"
      ]
    },
    {
      "cell_type": "code",
      "execution_count": null,
      "metadata": {
        "id": "2Pvxi00p5Evx"
      },
      "outputs": [],
      "source": [
        "!kill 426"
      ]
    },
    {
      "cell_type": "code",
      "execution_count": null,
      "metadata": {
        "id": "GkmURGgjwcuf"
      },
      "outputs": [],
      "source": [
        "from IPython.display import Image\n",
        "%load_ext tensorboard\n",
        "%tensorboard --logdir logs/fit"
      ]
    },
    {
      "cell_type": "code",
      "execution_count": null,
      "metadata": {
        "id": "KLRe8iy6s1yx"
      },
      "outputs": [],
      "source": [
        "import tensorflow as tf\n",
        "tf.compat.v1.enable_eager_execution()\n",
        "from tensorflow.keras.layers import TimeDistributed\n",
        "tf.keras.backend.clear_session()\n",
        "from tensorflow.keras.layers import Input, Softmax, RNN, Dense, Embedding, LSTM\n",
        "from tensorflow.keras.models import Model\n",
        "import numpy as np"
      ]
    },
    {
      "cell_type": "code",
      "execution_count": null,
      "metadata": {
        "id": "RvyLy-DEzVrY"
      },
      "outputs": [],
      "source": [
        "# This function predict Translated sentence and return Translated sentence and attention weights\n",
        "def predict(input_sentence):\n",
        "\n",
        "  '''\n",
        "  A. Given input sentence, convert the sentence into integers using tokenizer used earlier\n",
        "  B. Pass the input_sequence to encoder. we get encoder_outputs, last time step hidden and cell state\n",
        "  C. Initialize index of <start> as input to decoder. and encoder final states as input_states to decoder\n",
        "  D. till we reach max_length of decoder or till the model predicted word <end>:\n",
        "         predicted_out,state_h,state_c=model.layers[1](dec_input,states)\n",
        "         pass the predicted_out to the dense layer\n",
        "         update the states=[state_h,state_c]\n",
        "         And get the index of the word with maximum probability of the dense layer output, using the tokenizer(word index) get the word and then store it in a string.\n",
        "         Update the input_to_decoder with current predictions\n",
        "  F. Return the predicted sentence\n",
        "  '''\n",
        "\n",
        "  encoder_seq = tknizer_ita.texts_to_sequences([input_sentence])\n",
        "  encoder_seq = pad_sequences(encoder_seq,maxlen=20,dtype='int32',padding='post')\n",
        "  initial_state=model.layers[0].initialize_states(1)\n",
        "  encoder_output, encoder_state_h, encoder_state_c = model.layers[0](encoder_seq,initial_state)\n",
        "  states_values = [encoder_state_h,encoder_state_c]\n",
        "  pred = []\n",
        "  cur_vec = tf.expand_dims([tknizer_eng.word_index['<start>']], 0)\n",
        "\n",
        "\n",
        "  for i in range(DECODER_SEQ_LEN):\n",
        "    cur_emb = model.layers[1].embedding(cur_vec)\n",
        "    infe_output, state_h, state_c = model.layers[1].lstm(cur_emb,initial_state=states_values)\n",
        "    infe_output=model.layers[2](infe_output)\n",
        "    states_values = [state_h, state_c]\n",
        "    if cur_vec == end_index:\n",
        "      return pred\n",
        "    cur_vec = np.reshape(np.argmax(infe_output), (1, 1))\n",
        "    pred.append(cur_vec)\n",
        "  return pred"
      ]
    },
    {
      "cell_type": "code",
      "execution_count": null,
      "metadata": {
        "id": "f4avZf7wzo4O"
      },
      "outputs": [],
      "source": [
        "import nltk.translate.bleu_score as bleu\n",
        "DECODER_SEQ_LEN = 20\n",
        "end_index = tknizer_eng.word_index['<end>']\n",
        "blue_scores=[]\n",
        "for i in range(1000):\n",
        "  acutal_sentence = validation['italian'].sample().item()\n",
        "  #predicted_sentence=predict(acutal_sentence)\n",
        "  pred = predict(acutal_sentence)\n",
        "  sent_predicted = []\n",
        "\n",
        "  for j in pred:\n",
        "    sent_predicted.append(tknizer_eng.sequences_to_texts(j))\n",
        "\n",
        "  sent_predicted = list(map(''.join,sent_predicted))\n",
        "  blue_scores.append(bleu.sentence_bleu(acutal_sentence, sent_predicted))\n",
        "\n",
        "print(\"Average BLUE Score: \",np.average(np.array(blue_scores)))"
      ]
    },
    {
      "cell_type": "markdown",
      "metadata": {
        "id": "G5z0MQRl5thn"
      },
      "source": [
        "## Task -2: Including Attention mechanisum"
      ]
    },
    {
      "cell_type": "markdown",
      "metadata": {
        "id": "FXcXvVDo5y3F"
      },
      "source": [
        "1. Use the preprocessed data from Task-1\n",
        "\n",
        "2. You have to implement an Encoder and Decoder architecture with  \n",
        "attention as discussed in the reference notebook.\n",
        "\n",
        "    * Encoder   - with 1 layer LSTM <br>\n",
        "    * Decoder   - with 1 layer LSTM<br>\n",
        "    * attention -  (Please refer the <a href= 'https://drive.google.com/file/d/1z_bnc-3aubKawbR6q8wyI6Mh5ho2R1aZ/view?usp=sharing'>**reference notebook**</a> to know more about the attention mechanism.)\n",
        "3. In Global attention, we have 3 types of scoring functions(as discussed in the reference notebook).\n",
        " As a part of this assignment **you need to create 3 models for each scoring function**\n",
        "<img src='https://i.imgur.com/iD2jZo3.png'>\n",
        "\n",
        "    * In model 1 you need to implemnt \"dot\" score function\n",
        "    * In model 2 you need to implemnt \"general\" score function\n",
        "    * In model 3 you need to implemnt \"concat\" score function.<br>\n",
        "    \n",
        " **Please do add the markdown titles for each model so that we can have a better look at the code and verify.**\n",
        "4. It is mandatory to train the model with simple model.fit() only, Donot train the model with custom GradientTape()\n",
        "\n",
        "5. Using attention weights, you can plot the attention plots,\n",
        "please plot those for 2-3 examples. You can check about those in <a href=\"https://www.tensorflow.org/tutorials/text/nmt_with_attention#translate\">this</a>\n",
        "\n",
        "6. The attention layer has to be written by yourself only.\n",
        "The main objective of this assignment is to read and implement a paper on yourself so please do it yourself.  \n",
        "\n",
        "7. Please implement the class **onestepdecoder** as mentioned in the assignment instructions.\n",
        "\n",
        "8. You can use any tf.Keras highlevel API's to build and train the models.\n",
        " Check the reference notebook for better understanding.\n",
        "\n",
        "9. Use BLEU score as metric to evaluate your model. You can use any loss function you need.\n",
        "\n",
        "10. You have to use Tensorboard to plot the Graph, Scores and histograms of gradients.\n",
        "\n",
        "11. Resources:\n",
        "    a. Check the reference notebook\n",
        "    b. <a href=\"https://jalammar.github.io/visualizing-neural-machine-translation-mechanics-of-seq2seq-models-with-attention/\">Resource 1</a>\n",
        "    c. <a href=\"https://www.tensorflow.org/tutorials/text/nmt_with_attention\">Resource 2</a>\n",
        "    d. <a href=\"https://stackoverflow.com/questions/44238154/what-is-the-difference-between-luong-attention-and-bahdanau-attention#:~:text=Luong%20attention%20used%20top%20hidden,hidden%20state%20at%20time%20t.\">Resource 3</a>\n",
        "    "
      ]
    },
    {
      "cell_type": "markdown",
      "metadata": {
        "id": "A-P-NYPW59Lw"
      },
      "source": [
        "### <font color='blue'>**Implement custom encoder decoder and attention layers**</font>"
      ]
    },
    {
      "cell_type": "markdown",
      "metadata": {
        "id": "04-eYKF46ArT"
      },
      "source": [
        "<font color='blue'>**Encoder**</font>"
      ]
    },
    {
      "cell_type": "markdown",
      "metadata": {
        "id": "eIeXAkOC6V27"
      },
      "source": [
        "<font color='cyan'>**Grader function - 1**</font>"
      ]
    },
    {
      "cell_type": "code",
      "execution_count": null,
      "metadata": {
        "id": "H-_Mz0UW4be-"
      },
      "outputs": [],
      "source": [
        "def grader_check_encoder():\n",
        "\n",
        "    '''\n",
        "        vocab-size: Unique words of the input language,\n",
        "        embedding_size: output embedding dimension for each word after embedding layer,\n",
        "        lstm_size: Number of lstm units in encoder,\n",
        "        input_length: Length of the input sentence,\n",
        "        batch_size\n",
        "    '''\n",
        "\n",
        "    vocab_size=10\n",
        "    embedding_size=20\n",
        "    lstm_size=32\n",
        "    input_length=10\n",
        "    batch_size=16\n",
        "    encoder=Encoder(vocab_size,embedding_size,lstm_size,input_length)\n",
        "    input_sequence=tf.random.uniform(shape=[batch_size,input_length],maxval=vocab_size,minval=0,dtype=tf.int32)\n",
        "    initial_state=encoder.initialize_states(batch_size)\n",
        "    encoder_output,state_h,state_c=encoder(input_sequence,initial_state)\n",
        "\n",
        "    assert(encoder_output.shape==(batch_size,input_length,lstm_size) and state_h.shape==(batch_size,lstm_size) and state_c.shape==(batch_size,lstm_size))\n",
        "    return True\n",
        "print(grader_check_encoder())"
      ]
    },
    {
      "cell_type": "markdown",
      "metadata": {
        "id": "pQJtnUyQ6eRu"
      },
      "source": [
        "<font color='blue'>**Attention**</font>"
      ]
    },
    {
      "cell_type": "code",
      "execution_count": null,
      "metadata": {
        "id": "YZQ2cAu66N3z"
      },
      "outputs": [],
      "source": [
        "class Attention(tf.keras.layers.Layer):\n",
        "  '''\n",
        "    Class the calculates score based on the scoring_function using Bahdanu attention mechanism.\n",
        "  '''\n",
        "  def __init__(self,scoring_function, att_units):\n",
        "    super().__init__()\n",
        "    self.scoring_function=scoring_function\n",
        "    self.att_units=att_units\n",
        "\n",
        "    # Please go through the reference notebook and research paper to complete the scoring functions\n",
        "\n",
        "    if self.scoring_function=='dot':\n",
        "      # Intialize variables needed for Dot score function here\n",
        "      pass\n",
        "\n",
        "    if scoring_function == 'general':\n",
        "      # Intialize variables needed for General score function here\n",
        "      self.dens_1=Dense(att_units,name='general_layer')\n",
        "\n",
        "    elif scoring_function == 'concat':\n",
        "      # Intialize variables needed for Concat score function here\n",
        "      self.dens_1=Dense(att_units,name='concat_layer1')\n",
        "      self.dens_2=Dense(att_units,name='concat_layer2')\n",
        "      self.dens_3 = Dense(1,name='concat_layer3')\n",
        "\n",
        "\n",
        "  def call(self,decoder_hidden_state,encoder_output):\n",
        "    '''\n",
        "      Attention mechanism takes two inputs current step -- decoder_hidden_state and all the encoder_outputs.\n",
        "      * Based on the scoring function we will find the score or similarity between decoder_hidden_state and encoder_output.\n",
        "        Multiply the score function with your encoder_outputs to get the context vector.\n",
        "        Function returns context vector and attention weights(softmax - scores)\n",
        "    '''\n",
        "\n",
        "    if self.scoring_function == 'dot':\n",
        "        # Implement Dot score function here\n",
        "        hidden_ = tf.expand_dims(decoder_hidden_state,1)\n",
        "        out = Dot(axes=(2,2))([encoder_output,hidden_])\n",
        "\n",
        "    elif self.scoring_function == 'general':\n",
        "        # Implement General score function here\n",
        "        out_hidd_ = tf.expand_dims(decoder_hidden_state,1)\n",
        "        out = Dot((2,2))([encoder_output , self.dens_1(out_hidd_)])\n",
        "\n",
        "    elif self.scoring_function == 'concat':\n",
        "        # Implement General score function here\n",
        "        out_hidd_1 = tf.expand_dims(decoder_hidden_state,1)\n",
        "        out = self.dens_3(tf.nn.tanh(self.dens_1(out_hidd_1)+self.dens_2(encoder_output)))\n",
        "\n",
        "    wt_attentn  = tf.nn.softmax(out,axis=1)\n",
        "    vec_con = wt_attentn  * encoder_output\n",
        "    vec_con = tf.reduce_sum(vec_con,axis=1)\n",
        "    return vec_con,wt_attentn\n",
        "\n",
        "\n"
      ]
    },
    {
      "cell_type": "markdown",
      "metadata": {
        "id": "_w1qjcPFZJZu"
      },
      "source": [
        "<font color='cyan'>**Grader function - 2**</font>"
      ]
    },
    {
      "cell_type": "code",
      "execution_count": null,
      "metadata": {
        "id": "IPEsSBSYZJ5Q"
      },
      "outputs": [],
      "source": [
        "def grader_check_attention(scoring_fun):\n",
        "\n",
        "    '''\n",
        "        att_units: Used in matrix multiplications for scoring functions,\n",
        "        input_length: Length of the input sentence,\n",
        "        batch_size\n",
        "    '''\n",
        "\n",
        "    input_length=10\n",
        "    batch_size=16\n",
        "    att_units=32\n",
        "\n",
        "    state_h=tf.random.uniform(shape=[batch_size,att_units])\n",
        "    encoder_output=tf.random.uniform(shape=[batch_size,input_length,att_units])\n",
        "    attention=Attention(scoring_fun,att_units)\n",
        "    context_vector,attention_weights=attention(state_h,encoder_output)\n",
        "    assert(context_vector.shape==(batch_size,att_units) and attention_weights.shape==(batch_size,input_length,1))\n",
        "    return True\n",
        "print(grader_check_attention('dot'))\n",
        "print(grader_check_attention('general'))\n",
        "print(grader_check_attention('concat'))"
      ]
    },
    {
      "cell_type": "markdown",
      "metadata": {
        "id": "dwGFWa-_lnvI"
      },
      "source": [
        "<font color='blue'>**OneStepDecoder**</font>"
      ]
    },
    {
      "cell_type": "code",
      "execution_count": null,
      "metadata": {
        "id": "bKY6sCdraQtg"
      },
      "outputs": [],
      "source": [
        "class One_Step_Decoder(tf.keras.Model):\n",
        "  def __init__(self,tar_vocab_size, embedding_dim, input_length, dec_units ,score_fun ,att_units):\n",
        "\n",
        "      # Initialize decoder embedding layer, LSTM and any other objects needed\n",
        "      super().__init__()\n",
        "      self.tar_vocab_size=tar_vocab_size\n",
        "      self.embedding_dim=embedding_dim\n",
        "      self.input_length=input_length\n",
        "      self.dec_units=dec_units\n",
        "      self.score_fun=score_fun\n",
        "      self.att_units=att_units\n",
        "\n",
        "      self.embedding = Embedding(input_dim=self.tar_vocab_size,output_dim=self.embedding_dim,input_length=self.input_length,\n",
        "                                 mask_zero=True,name='embedding_layers')\n",
        "      self.lstm = LSTM(self.dec_units,return_sequences=True,return_state=True,name='onestepdecoder_layers')\n",
        "      self.dense = Dense(self.tar_vocab_size,name='One_step_Decoder_Dense_layer')\n",
        "      self.attention = Attention(scoring_function=self.score_fun,att_units=self.att_units)\n",
        "\n",
        "\n",
        "  def call(self,input_to_decoder, encoder_output, state_h,state_c):\n",
        "    '''\n",
        "        One step decoder mechanisim step by step:\n",
        "      A. Pass the input_to_decoder to the embedding layer and then get the output(batch_size,1,embedding_dim)\n",
        "      B. Using the encoder_output and decoder hidden state, compute the context vector.\n",
        "      C. Concat the context vector with the step A output\n",
        "      D. Pass the Step-C output to LSTM/GRU and get the decoder output and states(hidden and cell state)\n",
        "      E. Pass the decoder output to dense layer(vocab size) and store the result into output.\n",
        "      F. Return the states from step D, output from Step E, attention weights from Step -B\n",
        "    '''\n",
        "    embb_ = self.embedding(input_to_decoder)\n",
        "    vec_cont,wt_attentn = self.attention(state_h,encoder_output)\n",
        "    conc = tf.keras.layers.concatenate([tf.expand_dims(vec_cont,1),embb_],axis=-1)\n",
        "    out_deco,state_decoder_h,state_decoder_c = self.lstm(conc)\n",
        "    out_deco_flatt = tf.keras.layers.Flatten()(out_deco)\n",
        "    out = self.dense(out_deco_flatt)\n",
        "    return out,state_decoder_h,state_decoder_c,wt_attentn,vec_cont\n"
      ]
    },
    {
      "cell_type": "markdown",
      "metadata": {
        "id": "uoQVqKyexWu9"
      },
      "source": [
        "<font color='cyan'>**Grader function - 3**</font>"
      ]
    },
    {
      "cell_type": "code",
      "execution_count": null,
      "metadata": {
        "id": "o9dCuhKWw9jJ"
      },
      "outputs": [],
      "source": [
        "def grader_onestepdecoder(score_fun):\n",
        "\n",
        "    '''\n",
        "        tar_vocab_size: Unique words of the target language,\n",
        "        embedding_dim: output embedding dimension for each word after embedding layer,\n",
        "        dec_units: Number of lstm units in decoder,\n",
        "        att_units: Used in matrix multiplications for scoring functions in attention class,\n",
        "        input_length: Length of the target sentence,\n",
        "        batch_size\n",
        "\n",
        "\n",
        "    '''\n",
        "\n",
        "    tar_vocab_size=13\n",
        "    embedding_dim=12\n",
        "    input_length=10\n",
        "    dec_units=16\n",
        "    att_units=16\n",
        "    batch_size=32\n",
        "    onestepdecoder=One_Step_Decoder(tar_vocab_size, embedding_dim, input_length, dec_units ,score_fun ,att_units)\n",
        "    input_to_decoder=tf.random.uniform(shape=(batch_size,1),maxval=10,minval=0,dtype=tf.int32)\n",
        "    encoder_output=tf.random.uniform(shape=[batch_size,input_length,dec_units])\n",
        "    state_h=tf.random.uniform(shape=[batch_size,dec_units])\n",
        "    state_c=tf.random.uniform(shape=[batch_size,dec_units])\n",
        "    output,state_h,state_c,attention_weights,context_vector=onestepdecoder(input_to_decoder,encoder_output,state_h,state_c)\n",
        "    assert(output.shape==(batch_size,tar_vocab_size))\n",
        "    assert(state_h.shape==(batch_size,dec_units))\n",
        "    assert(state_c.shape==(batch_size,dec_units))\n",
        "    assert(attention_weights.shape==(batch_size,input_length,1))\n",
        "    assert(context_vector.shape==(batch_size,dec_units))\n",
        "    return True\n",
        "\n",
        "print(grader_onestepdecoder('dot'))\n",
        "print(grader_onestepdecoder('general'))\n",
        "print(grader_onestepdecoder('concat'))\n"
      ]
    },
    {
      "cell_type": "markdown",
      "metadata": {
        "id": "mI_AhlzzyAGW"
      },
      "source": [
        "<font color='blue'>**Decoder**</font>"
      ]
    },
    {
      "cell_type": "code",
      "execution_count": null,
      "metadata": {
        "id": "m3_kOoQ3xCea"
      },
      "outputs": [],
      "source": [
        "class Decoder(tf.keras.Model):\n",
        "    def __init__(self,out_vocab_size, embedding_dim, input_length, dec_units ,score_fun ,att_units):\n",
        "\n",
        "      super().__init__()\n",
        "      #Intialize necessary variables and create an object from the class onestepdecoder\n",
        "      self.out_vocab_size=out_vocab_size\n",
        "      self.embedding_dim=embedding_dim\n",
        "      self.input_length=input_length\n",
        "      self.dec_units=dec_units\n",
        "      self.score_fun=score_fun\n",
        "      self.att_units=att_units\n",
        "      self.onestepdecoder=One_Step_Decoder(out_vocab_size,embedding_dim,input_length,dec_units,score_fun,att_units)\n",
        "\n",
        "\n",
        "    def call(self, input_to_decoder,encoder_output,decoder_hidden_state,decoder_cell_state ):\n",
        "\n",
        "        #Initialize an empty Tensor array, that will store the outputs at each and every time step\n",
        "        arr_out = tf.TensorArray(tf.float32,size = tf.shape(input_to_decoder)[1])\n",
        "        for timestep in range(tf.shape(input_to_decoder)[1]):\n",
        "          out,state_h,state_c,wt_attentn,vec_cont = self.onestepdecoder(input_to_decoder[:,timestep:timestep+1],\n",
        "                                                                encoder_output,decoder_hidden_state,decoder_cell_state)\n",
        "\n",
        "          arr_out = arr_out.write(timestep,out)\n",
        "        #Create a tensor array as shown in the reference notebook\n",
        "\n",
        "        #Iterate till the length of the decoder input\n",
        "            # Call onestepdecoder for each token in decoder_input\n",
        "            # Store the output in tensorarray\n",
        "        arr_out = tf.transpose(arr_out.stack(),[1,0,2])\n",
        "        return arr_out\n",
        "        # Return the tensor array\n",
        "\n",
        "\n"
      ]
    },
    {
      "cell_type": "markdown",
      "metadata": {
        "id": "RPMHOUpcJrZW"
      },
      "source": [
        "<font color='cyan'>**Grader function - 4**</font>"
      ]
    },
    {
      "cell_type": "code",
      "execution_count": null,
      "metadata": {
        "id": "Uwa23cI4Jq6d"
      },
      "outputs": [],
      "source": [
        "def grader_decoder(score_fun):\n",
        "\n",
        "    '''\n",
        "        out_vocab_size: Unique words of the target language,\n",
        "        embedding_dim: output embedding dimension for each word after embedding layer,\n",
        "        dec_units: Number of lstm units in decoder,\n",
        "        att_units: Used in matrix multiplications for scoring functions in attention class,\n",
        "        input_length: Length of the target sentence,\n",
        "        batch_size\n",
        "\n",
        "\n",
        "    '''\n",
        "\n",
        "    out_vocab_size=13\n",
        "    embedding_dim=12\n",
        "    input_length=11\n",
        "    dec_units=16\n",
        "    att_units=16\n",
        "    batch_size=32\n",
        "\n",
        "    target_sentences=tf.random.uniform(shape=(batch_size,input_length),maxval=10,minval=0,dtype=tf.int32)\n",
        "    encoder_output=tf.random.uniform(shape=[batch_size,input_length,dec_units])\n",
        "    state_h=tf.random.uniform(shape=[batch_size,dec_units])\n",
        "    state_c=tf.random.uniform(shape=[batch_size,dec_units])\n",
        "\n",
        "    decoder=Decoder(out_vocab_size, embedding_dim, input_length, dec_units ,score_fun ,att_units)\n",
        "    output=decoder(target_sentences,encoder_output, state_h, state_c)\n",
        "    assert(output.shape==(batch_size,input_length,out_vocab_size))\n",
        "    return True\n",
        "print(grader_decoder('dot'))\n",
        "print(grader_decoder('general'))\n",
        "print(grader_decoder('concat'))"
      ]
    },
    {
      "cell_type": "markdown",
      "metadata": {
        "id": "qmr6zCtgMGiF"
      },
      "source": [
        "<font color='blue'>**Encoder Decoder model**</font>"
      ]
    },
    {
      "cell_type": "code",
      "execution_count": null,
      "metadata": {
        "id": "sib2oeLzJ1Kt"
      },
      "outputs": [],
      "source": [
        "class encoder_decoder(tf.keras.Model):\n",
        "  def __init__(self,encoder_inputs_length,decoder_inputs_length,out_vocab_size,score_fun,att_units):\n",
        "    #Intialize objects from encoder decoder\n",
        "    super().__init__()\n",
        "    self.encoder_inputs_length=encoder_inputs_length\n",
        "    #self.embedding_dim=embedding_dim\n",
        "    self.decoder_inputs_length=decoder_inputs_length\n",
        "    self.out_vocab_size=out_vocab_size\n",
        "    self.score_fun=score_fun\n",
        "    self.att_units=att_units\n",
        "\n",
        "    self.encoder = Encoder(inp_vocab_size=vocab_size_ita+1,\n",
        "                           embedding_size=100,\n",
        "                           input_length=self.encoder_inputs_length,\n",
        "                           lstm_size=self.att_units)\n",
        "    self.decoder = Decoder(out_vocab_size=vocab_size_eng+1,\n",
        "                           embedding_dim=100,\n",
        "                           input_length=self.decoder_inputs_length,\n",
        "                           dec_units=self.att_units,\n",
        "                           score_fun=self.score_fun,\n",
        "                           att_units=self.att_units)\n",
        "\n",
        "\n",
        "  def call(self,data):\n",
        "    #Intialize encoder states, Pass the encoder_sequence to the embedding layer\n",
        "    # Decoder initial states are encoder final states, Initialize it accordingly\n",
        "    # Pass the decoder sequence,encoder_output,decoder states to Decoder\n",
        "    # return the decoder output\n",
        "    initial_state = self.encoder.initialize_states(batch_size)\n",
        "\n",
        "    inputs,outputs = data[0],data[1]\n",
        "\n",
        "    encoder_output,encoder_final_state_h,encoder_final_state_c = self.encoder(inputs,initial_state)\n",
        "    decoder_output                                             = self.decoder(outputs,encoder_output,\n",
        "                                                                              encoder_final_state_h,encoder_final_state_c)\n",
        "\n",
        "    return decoder_output\n",
        "\n",
        "\n"
      ]
    },
    {
      "cell_type": "markdown",
      "metadata": {
        "id": "AoxpSuFk0lMa"
      },
      "source": [
        "<font color='blue'>**Custom loss function**</font>"
      ]
    },
    {
      "cell_type": "code",
      "execution_count": null,
      "metadata": {
        "id": "GDlmsRtw0Wuf"
      },
      "outputs": [],
      "source": [
        "#https://www.tensorflow.org/tutorials/text/image_captioning#model\n",
        "loss_object = tf.keras.losses.SparseCategoricalCrossentropy(\n",
        "    from_logits=True, reduction='none')\n",
        "\n",
        "\n",
        "def loss_function(real, pred):\n",
        "    \"\"\" Custom loss function that will not consider the loss for padded zeros.\n",
        "    why are we using this, can't we use simple sparse categorical crossentropy?\n",
        "    Yes, you can use simple sparse categorical crossentropy as loss like we did in task-1. But in this loss function we are ignoring the loss\n",
        "    for the padded zeros. i.e when the input is zero then we donot need to worry what the output is. This padded zeros are added from our end\n",
        "    during preprocessing to make equal length for all the sentences.\n",
        "\n",
        "    \"\"\"\n",
        "\n",
        "\n",
        "    mask = tf.math.logical_not(tf.math.equal(real, 0))\n",
        "    loss_ = loss_object(real, pred)\n",
        "\n",
        "    mask = tf.cast(mask, dtype=loss_.dtype)\n",
        "    loss_ *= mask\n",
        "\n",
        "    return tf.reduce_mean(loss_)"
      ]
    },
    {
      "cell_type": "markdown",
      "metadata": {
        "id": "wq9HGbh12f26"
      },
      "source": [
        "<font color='blue'>**Training**</font>"
      ]
    },
    {
      "cell_type": "markdown",
      "metadata": {
        "id": "g66azJnY2lNB"
      },
      "source": [
        "Implement dot function here."
      ]
    },
    {
      "cell_type": "code",
      "execution_count": null,
      "metadata": {
        "id": "3fULTLNi2X5w"
      },
      "outputs": [],
      "source": [
        "# Implement teacher forcing while training your model. You can do it two ways.\n",
        "# Prepare your data, encoder_input,decoder_input and decoder_output\n",
        "# if decoder input is\n",
        "# <start> Hi how are you\n",
        "# decoder output should be\n",
        "# Hi How are you <end>\n",
        "# i.e when you have send <start>-- decoder predicted Hi, 'Hi' decoder predicted 'How' .. e.t.c\n",
        "\n",
        "# or\n",
        "\n",
        "# model.fit([train_ita,train_eng],train_eng[:,1:]..)\n",
        "# Note: If you follow this approach some grader functions might return false and this is fine."
      ]
    },
    {
      "cell_type": "code",
      "execution_count": null,
      "metadata": {
        "id": "ux3bPKTV2oXi"
      },
      "outputs": [],
      "source": [
        "tf.keras.backend.clear_session()\n",
        "import datetime\n",
        "%load_ext tensorboard"
      ]
    },
    {
      "cell_type": "markdown",
      "metadata": {
        "id": "UlHAgDoD1IVM"
      },
      "source": [
        "## Dot Function"
      ]
    },
    {
      "cell_type": "code",
      "execution_count": null,
      "metadata": {
        "id": "npM-Umer4oHm"
      },
      "outputs": [],
      "source": [
        "log_dir = \"logs/fit/\" + datetime.datetime.now().strftime(\"%Y%m%d-%H%M%S\")\n",
        "tensorboard = tf.keras.callbacks.TensorBoard(log_dir=log_dir,\n",
        "                                                      histogram_freq=1)\n",
        "\n",
        "model = encoder_decoder(encoder_inputs_length=20,decoder_inputs_length=20,out_vocab_size=vocab_size_eng,\n",
        "                          score_fun='dot',att_units=312)\n",
        "#log_dir=\"logs\\\\\" + datetime.datetime.now().strftime(\"%Y%m%d-%H%M%S\")\n",
        "#tensorboard_callback = tf.keras.callbacks.TensorBoard(log_dir=log_dir,histogram_freq=1, write_graph=True)\n",
        "batch_size = 1024\n",
        "optimizer = tf.keras.optimizers.Adam()\n",
        "callback = [tensorboard]\n",
        "model.compile(optimizer=optimizer,loss=loss_function)\n",
        "\n",
        "train_steps = train.shape[0]//1024\n",
        "valid_steps = validation.shape[0]//1024\n",
        "model.fit(train_dataloader,steps_per_epoch=train_steps,\n",
        "          epochs=30, validation_data=test_dataloader,\n",
        "          callbacks=[tensorboard])\n",
        "model.summary()"
      ]
    },
    {
      "cell_type": "code",
      "execution_count": null,
      "metadata": {
        "id": "gjDaZzq2Lwwn"
      },
      "outputs": [],
      "source": [
        "from IPython.display import Image\n",
        "%load_ext tensorboard\n",
        "%tensorboard --logdir logs/fit"
      ]
    },
    {
      "cell_type": "code",
      "execution_count": null,
      "metadata": {
        "id": "uoVnev2DfYGc"
      },
      "outputs": [],
      "source": [
        "#https://towardsdatascience.com/intuitive-understanding-of-attention-mechanism-in-deep-lear\n",
        "#Refer: https://www.tensorflow.org/tutorials/text/nmt_with_attention#translate\n",
        "# refrence taken from https://www.tensorflow.org/text/tutorials/nmt_with_attention\n",
        "#refrence taken from https://blog.floydhub.com/attention-mechanism/"
      ]
    },
    {
      "cell_type": "code",
      "execution_count": null,
      "metadata": {
        "id": "qln06-T1evsf"
      },
      "outputs": [],
      "source": [
        "# This function plot attention weights\n",
        "import matplotlib.ticker as ticker\n",
        "def plot_attention(attention,sentence,predicted_sentence):\n",
        "  #Refer: https://www.tensorflow.org/tutorials/text/nmt_with_attention#translate\n",
        "  fig = plt.figure(figsize=(15,10))\n",
        "  ax = fig.add_subplot(1,1,1)\n",
        "  ax.matshow(attention)\n",
        "  fontdict = {'fontsize':14}\n",
        "\n",
        "  ax.set_xticklabels(['']+sentence,fontdict=fontdict,rotation=90)\n",
        "  ax.set_yticklabels(['']+predicted_sentence,fontdict=fontdict)\n",
        "  ax.xaxis.set_major_locator(ticker.MultipleLocator(1))\n",
        "  ax.yaxis.set_major_locator(ticker.MultipleLocator(1))\n",
        "\n",
        "  plt.show()\n"
      ]
    },
    {
      "cell_type": "markdown",
      "metadata": {
        "id": "RF2BGo7LfX2Q"
      },
      "source": [
        "<font color='blue'>**Predict the sentence translation**</font>"
      ]
    },
    {
      "cell_type": "code",
      "execution_count": null,
      "metadata": {
        "id": "ldjPAcSgOKdP"
      },
      "outputs": [],
      "source": [
        "# This function predict Translated sentence and return Translated sentence and attention weights\n",
        "def predict(input_sentence):\n",
        "\n",
        "  encoder_seq = tknizer_ita.texts_to_sequences([input_sentence])\n",
        "  encoder_seq = pad_sequences(encoder_seq,maxlen=20,dtype='int32',padding='post')\n",
        "  initial_state=model.layers[0].initialize_states(1)\n",
        "  encoder_output, encoder_state_h, encoder_state_c = model.layers[0](encoder_seq,initial_state)\n",
        "  states_values = [encoder_state_h,encoder_state_c]\n",
        "  pred = ''\n",
        "\n",
        "  attention_plot = np.zeros((20, 20))\n",
        "  cur_vec = tf.expand_dims([tknizer_eng.word_index['<start>']], 0)\n",
        "  for i in range(DECODER_SEQ_LEN):\n",
        "    inferance_output,input_state_h,input_state_c,attention_weights,contex_vec = model.layers[1].onestepdecoder(cur_vec,encoder_output,encoder_state_h,encoder_state_c,training=False)\n",
        "    attention_weights = tf.reshape(attention_weights,(-1,))\n",
        "    attention_plot[i] = attention_weights.numpy()\n",
        "    predicted_id = tf.argmax(inferance_output[0]).numpy()\n",
        "    pred += tknizer_eng.index_word[predicted_id] + ' '\n",
        "    if tknizer_eng.index_word[predicted_id] == '<end>':\n",
        "      return pred,attention_plot\n",
        "    cur_vec = tf.expand_dims([predicted_id],0)\n",
        "  return pred,attention_plot"
      ]
    },
    {
      "cell_type": "code",
      "execution_count": null,
      "metadata": {
        "id": "wUi-E6pA28PS"
      },
      "outputs": [],
      "source": [
        "# Here we take randomly one sentence from validation dataset and predict the output sentence and plot attention weight plot\n",
        "DECODER_SEQ_LEN = 20\n",
        "input_sentence = validation['italian'].sample().item()\n",
        "print(input_sentence)\n",
        "pred_sent,attention_plot = predict(input_sentence)\n",
        "\n",
        "attention_plot = attention_plot[:len(pred_sent.split(' ')),:len(input_sentence.split(' '))]\n",
        "plot_attention(attention_plot,input_sentence.split(' '),pred_sent.split(' '))\n",
        "\n",
        "print('\\n')\n",
        "print('English Translated Sentence: ',pred_sent)\n",
        "\n",
        "# ab=validation['italian'].iloc[2]\n",
        "# sentence=ab.split()\n",
        "# predicted_sentence=predicted_sentence.split()\n",
        "# attention=attention\n",
        "# plot=plot_attention(attention, sentence, predicted_sentence)\n"
      ]
    },
    {
      "cell_type": "code",
      "execution_count": null,
      "metadata": {
        "id": "wfanbY8tID0i"
      },
      "outputs": [],
      "source": [
        "# Here we take randomly one sentence from validation dataset and predict the output sentence and plot attention weight plot\n",
        "DECODER_SEQ_LEN = 20\n",
        "input_sentence = validation['italian'].sample().item()\n",
        "pred_sent,attention_plot = predict(input_sentence)\n",
        "\n",
        "attention_plot = attention_plot[:len(pred_sent.split(' ')),:len(input_sentence.split(' '))]\n",
        "plot_attention(attention_plot,input_sentence.split(' '),pred_sent.split(' '))\n",
        "\n",
        "print('\\n')\n",
        "print('*'*150)\n",
        "print('Italian Sentence: ',input_sentence)\n",
        "print('English Translated Sentence: ',pred_sent)"
      ]
    },
    {
      "cell_type": "markdown",
      "metadata": {
        "id": "Akzj885gZmrk"
      },
      "source": [
        "<font color='blue'>**Calculate BLEU score**</font>"
      ]
    },
    {
      "cell_type": "code",
      "execution_count": null,
      "metadata": {
        "id": "XrBoutvd2GzA"
      },
      "outputs": [],
      "source": [
        "#Create an object of your custom model.\n",
        "#Compile and train your model on dot scoring function.\n",
        "# Visualize few sentences randomly in Test data\n",
        "# Predict on 1000 random sentences on test data and calculate the average BLEU score of these sentences.\n",
        "# https://www.nltk.org/_modules/nltk/translate/bleu_score.html\n",
        "import nltk.translate.bleu_score as bleu\n",
        "blue_scores=[]\n",
        "for i in range(1000):\n",
        "  acutal_sentence = validation['italian'].sample().item()\n",
        "  predicted_sentence,_=predict(acutal_sentence)\n",
        "  blue_scores.append(bleu.sentence_bleu(acutal_sentence, predicted_sentence))\n",
        "\n",
        "print(\"Average BLUE Score: \",np.average(np.array(blue_scores)))"
      ]
    },
    {
      "cell_type": "markdown",
      "metadata": {
        "id": "-Nd0NdPgkXR_"
      },
      "source": [
        "Model  2"
      ]
    },
    {
      "cell_type": "markdown",
      "metadata": {
        "id": "tdApQFNgkZ6w"
      },
      "source": [
        "<font color='blue'>**Repeat the same steps for General scoring function**</font>"
      ]
    },
    {
      "cell_type": "code",
      "execution_count": null,
      "metadata": {
        "id": "hWVr97osKKhV"
      },
      "outputs": [],
      "source": [
        "#Compile and train your model on general scoring function.\n",
        "# Visualize few sentences randomly in Test data\n",
        "# Predict on 1000 random sentences on test data and calculate the average BLEU score of these sentences.\n",
        "# https://www.nltk.org/_modules/nltk/translate/bleu_score.html"
      ]
    },
    {
      "cell_type": "code",
      "execution_count": null,
      "metadata": {
        "id": "GANYM9J7l_Bg"
      },
      "outputs": [],
      "source": [
        "batch_size = 1024"
      ]
    },
    {
      "cell_type": "code",
      "execution_count": null,
      "metadata": {
        "id": "vliltvXUlzS9"
      },
      "outputs": [],
      "source": [
        "tf.keras.backend.clear_session()\n",
        "import datetime\n",
        "%load_ext tensorboard"
      ]
    },
    {
      "cell_type": "markdown",
      "metadata": {
        "id": "y-2hDwMb3X67"
      },
      "source": [
        "General function"
      ]
    },
    {
      "cell_type": "code",
      "execution_count": null,
      "metadata": {
        "id": "9wteiEbZlz3P"
      },
      "outputs": [],
      "source": [
        "log_dir = \"logs/fit/\" + datetime.datetime.now().strftime(\"%Y%m%d-%H%M%S\")\n",
        "tensorboard = tf.keras.callbacks.TensorBoard(log_dir=log_dir,\n",
        "                                                      histogram_freq=1)\n",
        "model = encoder_decoder(encoder_inputs_length=20,decoder_inputs_length=20,out_vocab_size=vocab_size_eng,\n",
        "                          score_fun='general',att_units=312)\n",
        "#log_dir=\"logs\\\\\" + datetime.datetime.now().strftime(\"%Y%m%d-%H%M%S\")\n",
        "#tensorboard_callback = tf.keras.callbacks.TensorBoard(log_dir=log_dir,histogram_freq=1, write_graph=True)\n",
        "optimizer = tf.keras.optimizers.Adam()\n",
        "model.compile(optimizer=optimizer,loss=loss_function)\n",
        "train_steps = train.shape[0]//1024\n",
        "valid_steps = validation.shape[0]//1024\n",
        "model.fit(train_dataloader,\n",
        "          steps_per_epoch=train_steps,\n",
        "          epochs=30,\n",
        "          validation_data=test_dataloader,\n",
        "          callbacks=[tensorboard])\n",
        "model.summary()"
      ]
    },
    {
      "cell_type": "code",
      "execution_count": null,
      "metadata": {
        "id": "q0SN26KsuLdX"
      },
      "outputs": [],
      "source": [
        "from IPython.display import Image\n",
        "%load_ext tensorboard\n",
        "%tensorboard --logdir logs/fit"
      ]
    },
    {
      "cell_type": "code",
      "execution_count": null,
      "metadata": {
        "id": "XqMun1gSmtPF"
      },
      "outputs": [],
      "source": [
        "# This function predict Translated sentence and return Translated sentence and attention weights\n",
        "def predict(input_sentence):\n",
        "\n",
        "  encoder_seq = tknizer_ita.texts_to_sequences([input_sentence])\n",
        "  encoder_seq = pad_sequences(encoder_seq,maxlen=20,dtype='int32',padding='post')\n",
        "  initial_state=model.layers[0].initialize_states(1)\n",
        "  encoder_output, encoder_state_h, encoder_state_c = model.layers[0](encoder_seq,initial_state)\n",
        "  states_values = [encoder_state_h,encoder_state_c]\n",
        "  pred = ''\n",
        "\n",
        "  attention_plot = np.zeros((20, 20))\n",
        "  cur_vec = tf.expand_dims([tknizer_eng.word_index['<start>']], 0)\n",
        "  for i in range(DECODER_SEQ_LEN):\n",
        "    inferance_output,input_state_h,input_state_c,attention_weights,contex_vec = model.layers[1].onestepdecoder(cur_vec,encoder_output,encoder_state_h,encoder_state_c,training=False)\n",
        "    attention_weights = tf.reshape(attention_weights,(-1,))\n",
        "    attention_plot[i] = attention_weights.numpy()\n",
        "    predicted_id = tf.argmax(inferance_output[0]).numpy()\n",
        "    pred += tknizer_eng.index_word[predicted_id] + ' '\n",
        "    if tknizer_eng.index_word[predicted_id] == '<end>':\n",
        "      return pred,attention_plot\n",
        "    cur_vec = tf.expand_dims([predicted_id],0)\n",
        "  return pred,attention_plot"
      ]
    },
    {
      "cell_type": "code",
      "execution_count": null,
      "metadata": {
        "id": "S9QdOywI_2Qo"
      },
      "outputs": [],
      "source": [
        "# Here we take randomly one sentence from validation dataset and predict the output sentence and plot attention weight plot\n",
        "DECODER_SEQ_LEN = 20\n",
        "input_sentence = validation['italian'].sample().item()\n",
        "print(input_sentence)\n",
        "pred_sent,attention_plot = predict(input_sentence)\n",
        "\n",
        "attention_plot = attention_plot[:len(pred_sent.split(' ')),:len(input_sentence.split(' '))]\n",
        "plot_attention(attention_plot,input_sentence.split(' '),pred_sent.split(' '))\n",
        "\n",
        "print('\\n')\n",
        "print('English Translated Sentence: ',pred_sent)"
      ]
    },
    {
      "cell_type": "code",
      "execution_count": null,
      "metadata": {
        "id": "NqChSciM_-ki"
      },
      "outputs": [],
      "source": [
        "# Here we take randomly one sentence from validation dataset and predict the output sentence and plot attention weight plot\n",
        "DECODER_SEQ_LEN = 20\n",
        "input_sentence = validation['italian'].sample().item()\n",
        "print(input_sentence)\n",
        "pred_sent,attention_plot = predict(input_sentence)\n",
        "\n",
        "attention_plot = attention_plot[:len(pred_sent.split(' ')),:len(input_sentence.split(' '))]\n",
        "plot_attention(attention_plot,input_sentence.split(' '),pred_sent.split(' '))\n",
        "\n",
        "print('\\n')\n",
        "print('English Translated Sentence: ',pred_sent)"
      ]
    },
    {
      "cell_type": "code",
      "execution_count": null,
      "metadata": {
        "id": "82DnjWtAASam"
      },
      "outputs": [],
      "source": [
        "import nltk.translate.bleu_score as bleu\n",
        "blue_scores=[]\n",
        "for i in range(1000):\n",
        "  acutal_sentence = validation['italian_inp'].sample().item()\n",
        "  predicted_sentence,_=predict(acutal_sentence)\n",
        "  blue_scores.append(bleu.sentence_bleu(acutal_sentence, predicted_sentence))\n",
        "\n",
        "print(\"Average BLUE Score: \",np.average(np.array(blue_scores)))"
      ]
    },
    {
      "cell_type": "code",
      "execution_count": null,
      "metadata": {
        "id": "9bU1ShnzKLUs"
      },
      "outputs": [],
      "source": [
        "%tensorboard --logdir /content/logs\\\\20210318-104419"
      ]
    },
    {
      "cell_type": "markdown",
      "metadata": {
        "id": "icf6JdVq3zBj"
      },
      "source": [
        "## CONCAT Function"
      ]
    },
    {
      "cell_type": "code",
      "execution_count": null,
      "metadata": {
        "id": "UABTom9630Qo"
      },
      "outputs": [],
      "source": [
        "tf.keras.backend.clear_session()\n",
        "import datetime\n",
        "%load_ext tensorboard"
      ]
    },
    {
      "cell_type": "code",
      "execution_count": null,
      "metadata": {
        "id": "xobSfQAt30NG"
      },
      "outputs": [],
      "source": [
        "batch_size = 1024"
      ]
    },
    {
      "cell_type": "code",
      "execution_count": null,
      "metadata": {
        "id": "zuB42O1i4aM-"
      },
      "outputs": [],
      "source": [
        "log_dir = \"logs/fit/\" + datetime.datetime.now().strftime(\"%Y%m%d-%H%M%S\")\n",
        "tensorboard = tf.keras.callbacks.TensorBoard(log_dir=log_dir,\n",
        "                                                      histogram_freq=1)\n",
        "\n",
        "model = encoder_decoder(encoder_inputs_length=20,decoder_inputs_length=20,output_vocab_size=vocab_size_eng,\n",
        "                          score_fun='concat',att_units=312)\n",
        "\n",
        "optimizer = tf.keras.optimizers.Adam()\n",
        "model.compile(optimizer=optimizer,loss=loss_Function)\n",
        "train_steps = train.shape[0]//1024\n",
        "valid_steps = validation.shape[0]//1024\n",
        "model.fit(train_dataloader,steps_per_epoch=train_steps,\n",
        "          epochs=30, validation_data=test_dataloader,\n",
        "          callbacks=[tensorboard])\n",
        "model.summary()"
      ]
    },
    {
      "cell_type": "code",
      "execution_count": null,
      "metadata": {
        "id": "mcsuuQGa5qef"
      },
      "outputs": [],
      "source": [
        "from IPython.display import Image\n",
        "%load_ext tensorboard\n",
        "%tensorboard --logdir logs/fit"
      ]
    },
    {
      "cell_type": "code",
      "execution_count": null,
      "metadata": {
        "id": "TE_a1F3D406p"
      },
      "outputs": [],
      "source": [
        "# This function predict Translated sentence and return Translated sentence and attention weights\n",
        "def predict(input_sentence):\n",
        "\n",
        "  encoder_seq = tknizer_ita.texts_to_sequences([input_sentence])\n",
        "  encoder_seq = pad_sequences(encoder_seq,maxlen=20,dtype='int32',padding='post')\n",
        "  initial_state=model.layers[0].initialize_states(1)\n",
        "  encoder_output, encoder_state_h, encoder_state_c = model.layers[0](encoder_seq,initial_state)\n",
        "  states_values = [encoder_state_h,encoder_state_c]\n",
        "  pred = ''\n",
        "\n",
        "  attention_plot = np.zeros((20, 20))\n",
        "  cur_vec = tf.expand_dims([tknizer_eng.word_index['<start>']], 0)\n",
        "  for i in range(DECODER_SEQ_LEN):\n",
        "    inferance_output,input_state_h,input_state_c,attention_weights,contex_vec = model.layers[1].onestepdecoder(cur_vec,encoder_output,encoder_state_h,encoder_state_c,training=False)\n",
        "    attention_weights = tf.reshape(attention_weights,(-1,))\n",
        "    attention_plot[i] = attention_weights.numpy()\n",
        "    predicted_id = tf.argmax(inferance_output[0]).numpy()\n",
        "    pred += tknizer_eng.index_word[predicted_id] + ' '\n",
        "    if tknizer_eng.index_word[predicted_id] == '<end>':\n",
        "      return pred,attention_plot\n",
        "    cur_vec = tf.expand_dims([predicted_id],0)\n",
        "  return pred,attention_plot"
      ]
    },
    {
      "cell_type": "code",
      "execution_count": null,
      "metadata": {
        "id": "wfgrCVIC40u7"
      },
      "outputs": [],
      "source": [
        "# Here we take randomly one sentence from validation dataset and predict the output sentence and plot attention weight plot\n",
        "DECODER_SEQ_LEN = 20\n",
        "input_sentence = validation['italian_inp'].sample().item()\n",
        "print(input_sentence)\n",
        "pred_sent,attention_plot = predict(input_sentence)\n",
        "\n",
        "attention_plot = attention_plot[:len(pred_sent.split(' ')),:len(input_sentence.split(' '))]\n",
        "plot_attention(attention_plot,input_sentence.split(' '),pred_sent.split(' '))\n",
        "\n",
        "print('\\n')\n",
        "print('English Translated Sentence: ',pred_sent)"
      ]
    },
    {
      "cell_type": "code",
      "execution_count": null,
      "metadata": {
        "id": "lMcwaeGt5ZU8"
      },
      "outputs": [],
      "source": [
        "# Here we take randomly one sentence from validation dataset and predict the output sentence and plot attention weight plot\n",
        "DECODER_SEQ_LEN = 20\n",
        "input_sentence = validation['italian_inp'].sample().item()\n",
        "print(input_sentence)\n",
        "pred_sent,attention_plot = predict(input_sentence)\n",
        "\n",
        "attention_plot = attention_plot[:len(pred_sent.split(' ')),:len(input_sentence.split(' '))]\n",
        "plot_attention(attention_plot,input_sentence.split(' '),pred_sent.split(' '))\n",
        "\n",
        "print('\\n')\n",
        "print('English Translated Sentence: ',pred_sent)"
      ]
    },
    {
      "cell_type": "code",
      "execution_count": null,
      "metadata": {
        "id": "_Jvq1S2h5hRz"
      },
      "outputs": [],
      "source": [
        "#Create an object of your custom model.\n",
        "#Compile and train your model on dot scoring function.\n",
        "# Visualize few sentences randomly in Test data\n",
        "# Predict on 1000 random sentences on test data and calculate the average BLEU score of these sentences.\n",
        "# https://www.nltk.org/_modules/nltk/translate/bleu_score.html\n",
        "import nltk.translate.bleu_score as bleu\n",
        "blue_scores=[]\n",
        "for i in range(1000):\n",
        "  acutal_sentence = validation['italian'].sample().item()\n",
        "  predicted_sentence,_=predict(acutal_sentence)\n",
        "  blue_scores.append(bleu.sentence_bleu(acutal_sentence, predicted_sentence))\n",
        "\n",
        "print(\"Average BLUE Score: \",np.average(np.array(blue_scores)))"
      ]
    },
    {
      "cell_type": "code",
      "execution_count": null,
      "metadata": {
        "id": "5eH3x4N9KLOE"
      },
      "outputs": [],
      "source": [
        "from prettytable import PrettyTable\n",
        "\n",
        "x = PrettyTable()\n",
        "\n",
        "x.field_names = [\"Model\",\"Loss\",'Bleu Score']\n",
        "x.add_row([\"Without Attention\", '0.2325', '0.81'])\n",
        "x.add_row([\"With Attention-Dot Score\", '0.277','0.776'])\n",
        "x.add_row([\"With Attention-General Score\", '0.270','0.780'])\n",
        "x.add_row([\"With Attention-Concat Score\", '0.270','0.779'])\n",
        "\n",
        "print(x)"
      ]
    }
  ],
  "metadata": {
    "accelerator": "GPU",
    "colab": {
      "provenance": []
    },
    "kernelspec": {
      "display_name": "Python 3",
      "name": "python3"
    },
    "language_info": {
      "name": "python"
    }
  },
  "nbformat": 4,
  "nbformat_minor": 0
}